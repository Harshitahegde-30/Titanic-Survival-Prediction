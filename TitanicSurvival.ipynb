{
  "nbformat": 4,
  "nbformat_minor": 0,
  "metadata": {
    "colab": {
      "provenance": [],
      "mount_file_id": "1NFnvNwd6lxpgbmPuR4chNcHN6u9fXP0N",
      "authorship_tag": "ABX9TyO5lqRlpdgSI+xhOoGIBlu+",
      "include_colab_link": true
    },
    "kernelspec": {
      "name": "python3",
      "display_name": "Python 3"
    },
    "language_info": {
      "name": "python"
    }
  },
  "cells": [
    {
      "cell_type": "markdown",
      "metadata": {
        "id": "view-in-github",
        "colab_type": "text"
      },
      "source": [
        "<a href=\"https://colab.research.google.com/github/Harshitahegde-30/Titanic-Survival-Prediction/blob/main/TitanicSurvival.ipynb\" target=\"_parent\"><img src=\"https://colab.research.google.com/assets/colab-badge.svg\" alt=\"Open In Colab\"/></a>"
      ]
    },
    {
      "cell_type": "code",
      "execution_count": 20,
      "metadata": {
        "id": "oWkYlC5tWOss"
      },
      "outputs": [],
      "source": [
        "import pandas as pd\n",
        "import numpy as np\n",
        "import matplotlib.pyplot as plt\n",
        "import seaborn as sns\n"
      ]
    },
    {
      "cell_type": "code",
      "source": [
        "# Load dataset (replace path with your file location)\n",
        "df = pd.read_csv(\"/content/drive/MyDrive/Titanic-Dataset.csv\")\n",
        "df"
      ],
      "metadata": {
        "colab": {
          "base_uri": "https://localhost:8080/",
          "height": 493
        },
        "id": "i6-H5GAUYZAN",
        "outputId": "2dbf2197-e9f4-487d-80fa-648b527187ad"
      },
      "execution_count": 21,
      "outputs": [
        {
          "output_type": "execute_result",
          "data": {
            "text/plain": [
              "     PassengerId  Survived  Pclass  \\\n",
              "0              1         0       3   \n",
              "1              2         1       1   \n",
              "2              3         1       3   \n",
              "3              4         1       1   \n",
              "4              5         0       3   \n",
              "..           ...       ...     ...   \n",
              "886          887         0       2   \n",
              "887          888         1       1   \n",
              "888          889         0       3   \n",
              "889          890         1       1   \n",
              "890          891         0       3   \n",
              "\n",
              "                                                  Name     Sex   Age  SibSp  \\\n",
              "0                              Braund, Mr. Owen Harris    male  22.0      1   \n",
              "1    Cumings, Mrs. John Bradley (Florence Briggs Th...  female  38.0      1   \n",
              "2                               Heikkinen, Miss. Laina  female  26.0      0   \n",
              "3         Futrelle, Mrs. Jacques Heath (Lily May Peel)  female  35.0      1   \n",
              "4                             Allen, Mr. William Henry    male  35.0      0   \n",
              "..                                                 ...     ...   ...    ...   \n",
              "886                              Montvila, Rev. Juozas    male  27.0      0   \n",
              "887                       Graham, Miss. Margaret Edith  female  19.0      0   \n",
              "888           Johnston, Miss. Catherine Helen \"Carrie\"  female   NaN      1   \n",
              "889                              Behr, Mr. Karl Howell    male  26.0      0   \n",
              "890                                Dooley, Mr. Patrick    male  32.0      0   \n",
              "\n",
              "     Parch            Ticket     Fare Cabin Embarked  \n",
              "0        0         A/5 21171   7.2500   NaN        S  \n",
              "1        0          PC 17599  71.2833   C85        C  \n",
              "2        0  STON/O2. 3101282   7.9250   NaN        S  \n",
              "3        0            113803  53.1000  C123        S  \n",
              "4        0            373450   8.0500   NaN        S  \n",
              "..     ...               ...      ...   ...      ...  \n",
              "886      0            211536  13.0000   NaN        S  \n",
              "887      0            112053  30.0000   B42        S  \n",
              "888      2        W./C. 6607  23.4500   NaN        S  \n",
              "889      0            111369  30.0000  C148        C  \n",
              "890      0            370376   7.7500   NaN        Q  \n",
              "\n",
              "[891 rows x 12 columns]"
            ],
            "text/html": [
              "\n",
              "  <div id=\"df-42b44e02-9fbb-4ee8-9284-eca0c02eca55\" class=\"colab-df-container\">\n",
              "    <div>\n",
              "<style scoped>\n",
              "    .dataframe tbody tr th:only-of-type {\n",
              "        vertical-align: middle;\n",
              "    }\n",
              "\n",
              "    .dataframe tbody tr th {\n",
              "        vertical-align: top;\n",
              "    }\n",
              "\n",
              "    .dataframe thead th {\n",
              "        text-align: right;\n",
              "    }\n",
              "</style>\n",
              "<table border=\"1\" class=\"dataframe\">\n",
              "  <thead>\n",
              "    <tr style=\"text-align: right;\">\n",
              "      <th></th>\n",
              "      <th>PassengerId</th>\n",
              "      <th>Survived</th>\n",
              "      <th>Pclass</th>\n",
              "      <th>Name</th>\n",
              "      <th>Sex</th>\n",
              "      <th>Age</th>\n",
              "      <th>SibSp</th>\n",
              "      <th>Parch</th>\n",
              "      <th>Ticket</th>\n",
              "      <th>Fare</th>\n",
              "      <th>Cabin</th>\n",
              "      <th>Embarked</th>\n",
              "    </tr>\n",
              "  </thead>\n",
              "  <tbody>\n",
              "    <tr>\n",
              "      <th>0</th>\n",
              "      <td>1</td>\n",
              "      <td>0</td>\n",
              "      <td>3</td>\n",
              "      <td>Braund, Mr. Owen Harris</td>\n",
              "      <td>male</td>\n",
              "      <td>22.0</td>\n",
              "      <td>1</td>\n",
              "      <td>0</td>\n",
              "      <td>A/5 21171</td>\n",
              "      <td>7.2500</td>\n",
              "      <td>NaN</td>\n",
              "      <td>S</td>\n",
              "    </tr>\n",
              "    <tr>\n",
              "      <th>1</th>\n",
              "      <td>2</td>\n",
              "      <td>1</td>\n",
              "      <td>1</td>\n",
              "      <td>Cumings, Mrs. John Bradley (Florence Briggs Th...</td>\n",
              "      <td>female</td>\n",
              "      <td>38.0</td>\n",
              "      <td>1</td>\n",
              "      <td>0</td>\n",
              "      <td>PC 17599</td>\n",
              "      <td>71.2833</td>\n",
              "      <td>C85</td>\n",
              "      <td>C</td>\n",
              "    </tr>\n",
              "    <tr>\n",
              "      <th>2</th>\n",
              "      <td>3</td>\n",
              "      <td>1</td>\n",
              "      <td>3</td>\n",
              "      <td>Heikkinen, Miss. Laina</td>\n",
              "      <td>female</td>\n",
              "      <td>26.0</td>\n",
              "      <td>0</td>\n",
              "      <td>0</td>\n",
              "      <td>STON/O2. 3101282</td>\n",
              "      <td>7.9250</td>\n",
              "      <td>NaN</td>\n",
              "      <td>S</td>\n",
              "    </tr>\n",
              "    <tr>\n",
              "      <th>3</th>\n",
              "      <td>4</td>\n",
              "      <td>1</td>\n",
              "      <td>1</td>\n",
              "      <td>Futrelle, Mrs. Jacques Heath (Lily May Peel)</td>\n",
              "      <td>female</td>\n",
              "      <td>35.0</td>\n",
              "      <td>1</td>\n",
              "      <td>0</td>\n",
              "      <td>113803</td>\n",
              "      <td>53.1000</td>\n",
              "      <td>C123</td>\n",
              "      <td>S</td>\n",
              "    </tr>\n",
              "    <tr>\n",
              "      <th>4</th>\n",
              "      <td>5</td>\n",
              "      <td>0</td>\n",
              "      <td>3</td>\n",
              "      <td>Allen, Mr. William Henry</td>\n",
              "      <td>male</td>\n",
              "      <td>35.0</td>\n",
              "      <td>0</td>\n",
              "      <td>0</td>\n",
              "      <td>373450</td>\n",
              "      <td>8.0500</td>\n",
              "      <td>NaN</td>\n",
              "      <td>S</td>\n",
              "    </tr>\n",
              "    <tr>\n",
              "      <th>...</th>\n",
              "      <td>...</td>\n",
              "      <td>...</td>\n",
              "      <td>...</td>\n",
              "      <td>...</td>\n",
              "      <td>...</td>\n",
              "      <td>...</td>\n",
              "      <td>...</td>\n",
              "      <td>...</td>\n",
              "      <td>...</td>\n",
              "      <td>...</td>\n",
              "      <td>...</td>\n",
              "      <td>...</td>\n",
              "    </tr>\n",
              "    <tr>\n",
              "      <th>886</th>\n",
              "      <td>887</td>\n",
              "      <td>0</td>\n",
              "      <td>2</td>\n",
              "      <td>Montvila, Rev. Juozas</td>\n",
              "      <td>male</td>\n",
              "      <td>27.0</td>\n",
              "      <td>0</td>\n",
              "      <td>0</td>\n",
              "      <td>211536</td>\n",
              "      <td>13.0000</td>\n",
              "      <td>NaN</td>\n",
              "      <td>S</td>\n",
              "    </tr>\n",
              "    <tr>\n",
              "      <th>887</th>\n",
              "      <td>888</td>\n",
              "      <td>1</td>\n",
              "      <td>1</td>\n",
              "      <td>Graham, Miss. Margaret Edith</td>\n",
              "      <td>female</td>\n",
              "      <td>19.0</td>\n",
              "      <td>0</td>\n",
              "      <td>0</td>\n",
              "      <td>112053</td>\n",
              "      <td>30.0000</td>\n",
              "      <td>B42</td>\n",
              "      <td>S</td>\n",
              "    </tr>\n",
              "    <tr>\n",
              "      <th>888</th>\n",
              "      <td>889</td>\n",
              "      <td>0</td>\n",
              "      <td>3</td>\n",
              "      <td>Johnston, Miss. Catherine Helen \"Carrie\"</td>\n",
              "      <td>female</td>\n",
              "      <td>NaN</td>\n",
              "      <td>1</td>\n",
              "      <td>2</td>\n",
              "      <td>W./C. 6607</td>\n",
              "      <td>23.4500</td>\n",
              "      <td>NaN</td>\n",
              "      <td>S</td>\n",
              "    </tr>\n",
              "    <tr>\n",
              "      <th>889</th>\n",
              "      <td>890</td>\n",
              "      <td>1</td>\n",
              "      <td>1</td>\n",
              "      <td>Behr, Mr. Karl Howell</td>\n",
              "      <td>male</td>\n",
              "      <td>26.0</td>\n",
              "      <td>0</td>\n",
              "      <td>0</td>\n",
              "      <td>111369</td>\n",
              "      <td>30.0000</td>\n",
              "      <td>C148</td>\n",
              "      <td>C</td>\n",
              "    </tr>\n",
              "    <tr>\n",
              "      <th>890</th>\n",
              "      <td>891</td>\n",
              "      <td>0</td>\n",
              "      <td>3</td>\n",
              "      <td>Dooley, Mr. Patrick</td>\n",
              "      <td>male</td>\n",
              "      <td>32.0</td>\n",
              "      <td>0</td>\n",
              "      <td>0</td>\n",
              "      <td>370376</td>\n",
              "      <td>7.7500</td>\n",
              "      <td>NaN</td>\n",
              "      <td>Q</td>\n",
              "    </tr>\n",
              "  </tbody>\n",
              "</table>\n",
              "<p>891 rows × 12 columns</p>\n",
              "</div>\n",
              "    <div class=\"colab-df-buttons\">\n",
              "\n",
              "  <div class=\"colab-df-container\">\n",
              "    <button class=\"colab-df-convert\" onclick=\"convertToInteractive('df-42b44e02-9fbb-4ee8-9284-eca0c02eca55')\"\n",
              "            title=\"Convert this dataframe to an interactive table.\"\n",
              "            style=\"display:none;\">\n",
              "\n",
              "  <svg xmlns=\"http://www.w3.org/2000/svg\" height=\"24px\" viewBox=\"0 -960 960 960\">\n",
              "    <path d=\"M120-120v-720h720v720H120Zm60-500h600v-160H180v160Zm220 220h160v-160H400v160Zm0 220h160v-160H400v160ZM180-400h160v-160H180v160Zm440 0h160v-160H620v160ZM180-180h160v-160H180v160Zm440 0h160v-160H620v160Z\"/>\n",
              "  </svg>\n",
              "    </button>\n",
              "\n",
              "  <style>\n",
              "    .colab-df-container {\n",
              "      display:flex;\n",
              "      gap: 12px;\n",
              "    }\n",
              "\n",
              "    .colab-df-convert {\n",
              "      background-color: #E8F0FE;\n",
              "      border: none;\n",
              "      border-radius: 50%;\n",
              "      cursor: pointer;\n",
              "      display: none;\n",
              "      fill: #1967D2;\n",
              "      height: 32px;\n",
              "      padding: 0 0 0 0;\n",
              "      width: 32px;\n",
              "    }\n",
              "\n",
              "    .colab-df-convert:hover {\n",
              "      background-color: #E2EBFA;\n",
              "      box-shadow: 0px 1px 2px rgba(60, 64, 67, 0.3), 0px 1px 3px 1px rgba(60, 64, 67, 0.15);\n",
              "      fill: #174EA6;\n",
              "    }\n",
              "\n",
              "    .colab-df-buttons div {\n",
              "      margin-bottom: 4px;\n",
              "    }\n",
              "\n",
              "    [theme=dark] .colab-df-convert {\n",
              "      background-color: #3B4455;\n",
              "      fill: #D2E3FC;\n",
              "    }\n",
              "\n",
              "    [theme=dark] .colab-df-convert:hover {\n",
              "      background-color: #434B5C;\n",
              "      box-shadow: 0px 1px 3px 1px rgba(0, 0, 0, 0.15);\n",
              "      filter: drop-shadow(0px 1px 2px rgba(0, 0, 0, 0.3));\n",
              "      fill: #FFFFFF;\n",
              "    }\n",
              "  </style>\n",
              "\n",
              "    <script>\n",
              "      const buttonEl =\n",
              "        document.querySelector('#df-42b44e02-9fbb-4ee8-9284-eca0c02eca55 button.colab-df-convert');\n",
              "      buttonEl.style.display =\n",
              "        google.colab.kernel.accessAllowed ? 'block' : 'none';\n",
              "\n",
              "      async function convertToInteractive(key) {\n",
              "        const element = document.querySelector('#df-42b44e02-9fbb-4ee8-9284-eca0c02eca55');\n",
              "        const dataTable =\n",
              "          await google.colab.kernel.invokeFunction('convertToInteractive',\n",
              "                                                    [key], {});\n",
              "        if (!dataTable) return;\n",
              "\n",
              "        const docLinkHtml = 'Like what you see? Visit the ' +\n",
              "          '<a target=\"_blank\" href=https://colab.research.google.com/notebooks/data_table.ipynb>data table notebook</a>'\n",
              "          + ' to learn more about interactive tables.';\n",
              "        element.innerHTML = '';\n",
              "        dataTable['output_type'] = 'display_data';\n",
              "        await google.colab.output.renderOutput(dataTable, element);\n",
              "        const docLink = document.createElement('div');\n",
              "        docLink.innerHTML = docLinkHtml;\n",
              "        element.appendChild(docLink);\n",
              "      }\n",
              "    </script>\n",
              "  </div>\n",
              "\n",
              "\n",
              "    <div id=\"df-d3aae8fd-8681-462a-990d-c0a643385982\">\n",
              "      <button class=\"colab-df-quickchart\" onclick=\"quickchart('df-d3aae8fd-8681-462a-990d-c0a643385982')\"\n",
              "                title=\"Suggest charts\"\n",
              "                style=\"display:none;\">\n",
              "\n",
              "<svg xmlns=\"http://www.w3.org/2000/svg\" height=\"24px\"viewBox=\"0 0 24 24\"\n",
              "     width=\"24px\">\n",
              "    <g>\n",
              "        <path d=\"M19 3H5c-1.1 0-2 .9-2 2v14c0 1.1.9 2 2 2h14c1.1 0 2-.9 2-2V5c0-1.1-.9-2-2-2zM9 17H7v-7h2v7zm4 0h-2V7h2v10zm4 0h-2v-4h2v4z\"/>\n",
              "    </g>\n",
              "</svg>\n",
              "      </button>\n",
              "\n",
              "<style>\n",
              "  .colab-df-quickchart {\n",
              "      --bg-color: #E8F0FE;\n",
              "      --fill-color: #1967D2;\n",
              "      --hover-bg-color: #E2EBFA;\n",
              "      --hover-fill-color: #174EA6;\n",
              "      --disabled-fill-color: #AAA;\n",
              "      --disabled-bg-color: #DDD;\n",
              "  }\n",
              "\n",
              "  [theme=dark] .colab-df-quickchart {\n",
              "      --bg-color: #3B4455;\n",
              "      --fill-color: #D2E3FC;\n",
              "      --hover-bg-color: #434B5C;\n",
              "      --hover-fill-color: #FFFFFF;\n",
              "      --disabled-bg-color: #3B4455;\n",
              "      --disabled-fill-color: #666;\n",
              "  }\n",
              "\n",
              "  .colab-df-quickchart {\n",
              "    background-color: var(--bg-color);\n",
              "    border: none;\n",
              "    border-radius: 50%;\n",
              "    cursor: pointer;\n",
              "    display: none;\n",
              "    fill: var(--fill-color);\n",
              "    height: 32px;\n",
              "    padding: 0;\n",
              "    width: 32px;\n",
              "  }\n",
              "\n",
              "  .colab-df-quickchart:hover {\n",
              "    background-color: var(--hover-bg-color);\n",
              "    box-shadow: 0 1px 2px rgba(60, 64, 67, 0.3), 0 1px 3px 1px rgba(60, 64, 67, 0.15);\n",
              "    fill: var(--button-hover-fill-color);\n",
              "  }\n",
              "\n",
              "  .colab-df-quickchart-complete:disabled,\n",
              "  .colab-df-quickchart-complete:disabled:hover {\n",
              "    background-color: var(--disabled-bg-color);\n",
              "    fill: var(--disabled-fill-color);\n",
              "    box-shadow: none;\n",
              "  }\n",
              "\n",
              "  .colab-df-spinner {\n",
              "    border: 2px solid var(--fill-color);\n",
              "    border-color: transparent;\n",
              "    border-bottom-color: var(--fill-color);\n",
              "    animation:\n",
              "      spin 1s steps(1) infinite;\n",
              "  }\n",
              "\n",
              "  @keyframes spin {\n",
              "    0% {\n",
              "      border-color: transparent;\n",
              "      border-bottom-color: var(--fill-color);\n",
              "      border-left-color: var(--fill-color);\n",
              "    }\n",
              "    20% {\n",
              "      border-color: transparent;\n",
              "      border-left-color: var(--fill-color);\n",
              "      border-top-color: var(--fill-color);\n",
              "    }\n",
              "    30% {\n",
              "      border-color: transparent;\n",
              "      border-left-color: var(--fill-color);\n",
              "      border-top-color: var(--fill-color);\n",
              "      border-right-color: var(--fill-color);\n",
              "    }\n",
              "    40% {\n",
              "      border-color: transparent;\n",
              "      border-right-color: var(--fill-color);\n",
              "      border-top-color: var(--fill-color);\n",
              "    }\n",
              "    60% {\n",
              "      border-color: transparent;\n",
              "      border-right-color: var(--fill-color);\n",
              "    }\n",
              "    80% {\n",
              "      border-color: transparent;\n",
              "      border-right-color: var(--fill-color);\n",
              "      border-bottom-color: var(--fill-color);\n",
              "    }\n",
              "    90% {\n",
              "      border-color: transparent;\n",
              "      border-bottom-color: var(--fill-color);\n",
              "    }\n",
              "  }\n",
              "</style>\n",
              "\n",
              "      <script>\n",
              "        async function quickchart(key) {\n",
              "          const quickchartButtonEl =\n",
              "            document.querySelector('#' + key + ' button');\n",
              "          quickchartButtonEl.disabled = true;  // To prevent multiple clicks.\n",
              "          quickchartButtonEl.classList.add('colab-df-spinner');\n",
              "          try {\n",
              "            const charts = await google.colab.kernel.invokeFunction(\n",
              "                'suggestCharts', [key], {});\n",
              "          } catch (error) {\n",
              "            console.error('Error during call to suggestCharts:', error);\n",
              "          }\n",
              "          quickchartButtonEl.classList.remove('colab-df-spinner');\n",
              "          quickchartButtonEl.classList.add('colab-df-quickchart-complete');\n",
              "        }\n",
              "        (() => {\n",
              "          let quickchartButtonEl =\n",
              "            document.querySelector('#df-d3aae8fd-8681-462a-990d-c0a643385982 button');\n",
              "          quickchartButtonEl.style.display =\n",
              "            google.colab.kernel.accessAllowed ? 'block' : 'none';\n",
              "        })();\n",
              "      </script>\n",
              "    </div>\n",
              "\n",
              "  <div id=\"id_a8916447-dc51-4205-925b-395b224b8e4f\">\n",
              "    <style>\n",
              "      .colab-df-generate {\n",
              "        background-color: #E8F0FE;\n",
              "        border: none;\n",
              "        border-radius: 50%;\n",
              "        cursor: pointer;\n",
              "        display: none;\n",
              "        fill: #1967D2;\n",
              "        height: 32px;\n",
              "        padding: 0 0 0 0;\n",
              "        width: 32px;\n",
              "      }\n",
              "\n",
              "      .colab-df-generate:hover {\n",
              "        background-color: #E2EBFA;\n",
              "        box-shadow: 0px 1px 2px rgba(60, 64, 67, 0.3), 0px 1px 3px 1px rgba(60, 64, 67, 0.15);\n",
              "        fill: #174EA6;\n",
              "      }\n",
              "\n",
              "      [theme=dark] .colab-df-generate {\n",
              "        background-color: #3B4455;\n",
              "        fill: #D2E3FC;\n",
              "      }\n",
              "\n",
              "      [theme=dark] .colab-df-generate:hover {\n",
              "        background-color: #434B5C;\n",
              "        box-shadow: 0px 1px 3px 1px rgba(0, 0, 0, 0.15);\n",
              "        filter: drop-shadow(0px 1px 2px rgba(0, 0, 0, 0.3));\n",
              "        fill: #FFFFFF;\n",
              "      }\n",
              "    </style>\n",
              "    <button class=\"colab-df-generate\" onclick=\"generateWithVariable('df')\"\n",
              "            title=\"Generate code using this dataframe.\"\n",
              "            style=\"display:none;\">\n",
              "\n",
              "  <svg xmlns=\"http://www.w3.org/2000/svg\" height=\"24px\"viewBox=\"0 0 24 24\"\n",
              "       width=\"24px\">\n",
              "    <path d=\"M7,19H8.4L18.45,9,17,7.55,7,17.6ZM5,21V16.75L18.45,3.32a2,2,0,0,1,2.83,0l1.4,1.43a1.91,1.91,0,0,1,.58,1.4,1.91,1.91,0,0,1-.58,1.4L9.25,21ZM18.45,9,17,7.55Zm-12,3A5.31,5.31,0,0,0,4.9,8.1,5.31,5.31,0,0,0,1,6.5,5.31,5.31,0,0,0,4.9,4.9,5.31,5.31,0,0,0,6.5,1,5.31,5.31,0,0,0,8.1,4.9,5.31,5.31,0,0,0,12,6.5,5.46,5.46,0,0,0,6.5,12Z\"/>\n",
              "  </svg>\n",
              "    </button>\n",
              "    <script>\n",
              "      (() => {\n",
              "      const buttonEl =\n",
              "        document.querySelector('#id_a8916447-dc51-4205-925b-395b224b8e4f button.colab-df-generate');\n",
              "      buttonEl.style.display =\n",
              "        google.colab.kernel.accessAllowed ? 'block' : 'none';\n",
              "\n",
              "      buttonEl.onclick = () => {\n",
              "        google.colab.notebook.generateWithVariable('df');\n",
              "      }\n",
              "      })();\n",
              "    </script>\n",
              "  </div>\n",
              "\n",
              "    </div>\n",
              "  </div>\n"
            ],
            "application/vnd.google.colaboratory.intrinsic+json": {
              "type": "dataframe",
              "variable_name": "df",
              "summary": "{\n  \"name\": \"df\",\n  \"rows\": 891,\n  \"fields\": [\n    {\n      \"column\": \"PassengerId\",\n      \"properties\": {\n        \"dtype\": \"number\",\n        \"std\": 257,\n        \"min\": 1,\n        \"max\": 891,\n        \"num_unique_values\": 891,\n        \"samples\": [\n          710,\n          440,\n          841\n        ],\n        \"semantic_type\": \"\",\n        \"description\": \"\"\n      }\n    },\n    {\n      \"column\": \"Survived\",\n      \"properties\": {\n        \"dtype\": \"number\",\n        \"std\": 0,\n        \"min\": 0,\n        \"max\": 1,\n        \"num_unique_values\": 2,\n        \"samples\": [\n          1,\n          0\n        ],\n        \"semantic_type\": \"\",\n        \"description\": \"\"\n      }\n    },\n    {\n      \"column\": \"Pclass\",\n      \"properties\": {\n        \"dtype\": \"number\",\n        \"std\": 0,\n        \"min\": 1,\n        \"max\": 3,\n        \"num_unique_values\": 3,\n        \"samples\": [\n          3,\n          1\n        ],\n        \"semantic_type\": \"\",\n        \"description\": \"\"\n      }\n    },\n    {\n      \"column\": \"Name\",\n      \"properties\": {\n        \"dtype\": \"string\",\n        \"num_unique_values\": 891,\n        \"samples\": [\n          \"Moubarek, Master. Halim Gonios (\\\"William George\\\")\",\n          \"Kvillner, Mr. Johan Henrik Johannesson\"\n        ],\n        \"semantic_type\": \"\",\n        \"description\": \"\"\n      }\n    },\n    {\n      \"column\": \"Sex\",\n      \"properties\": {\n        \"dtype\": \"category\",\n        \"num_unique_values\": 2,\n        \"samples\": [\n          \"female\",\n          \"male\"\n        ],\n        \"semantic_type\": \"\",\n        \"description\": \"\"\n      }\n    },\n    {\n      \"column\": \"Age\",\n      \"properties\": {\n        \"dtype\": \"number\",\n        \"std\": 14.526497332334044,\n        \"min\": 0.42,\n        \"max\": 80.0,\n        \"num_unique_values\": 88,\n        \"samples\": [\n          0.75,\n          22.0\n        ],\n        \"semantic_type\": \"\",\n        \"description\": \"\"\n      }\n    },\n    {\n      \"column\": \"SibSp\",\n      \"properties\": {\n        \"dtype\": \"number\",\n        \"std\": 1,\n        \"min\": 0,\n        \"max\": 8,\n        \"num_unique_values\": 7,\n        \"samples\": [\n          1,\n          0\n        ],\n        \"semantic_type\": \"\",\n        \"description\": \"\"\n      }\n    },\n    {\n      \"column\": \"Parch\",\n      \"properties\": {\n        \"dtype\": \"number\",\n        \"std\": 0,\n        \"min\": 0,\n        \"max\": 6,\n        \"num_unique_values\": 7,\n        \"samples\": [\n          0,\n          1\n        ],\n        \"semantic_type\": \"\",\n        \"description\": \"\"\n      }\n    },\n    {\n      \"column\": \"Ticket\",\n      \"properties\": {\n        \"dtype\": \"string\",\n        \"num_unique_values\": 681,\n        \"samples\": [\n          \"11774\",\n          \"248740\"\n        ],\n        \"semantic_type\": \"\",\n        \"description\": \"\"\n      }\n    },\n    {\n      \"column\": \"Fare\",\n      \"properties\": {\n        \"dtype\": \"number\",\n        \"std\": 49.693428597180905,\n        \"min\": 0.0,\n        \"max\": 512.3292,\n        \"num_unique_values\": 248,\n        \"samples\": [\n          11.2417,\n          51.8625\n        ],\n        \"semantic_type\": \"\",\n        \"description\": \"\"\n      }\n    },\n    {\n      \"column\": \"Cabin\",\n      \"properties\": {\n        \"dtype\": \"category\",\n        \"num_unique_values\": 147,\n        \"samples\": [\n          \"D45\",\n          \"B49\"\n        ],\n        \"semantic_type\": \"\",\n        \"description\": \"\"\n      }\n    },\n    {\n      \"column\": \"Embarked\",\n      \"properties\": {\n        \"dtype\": \"category\",\n        \"num_unique_values\": 3,\n        \"samples\": [\n          \"S\",\n          \"C\"\n        ],\n        \"semantic_type\": \"\",\n        \"description\": \"\"\n      }\n    }\n  ]\n}"
            }
          },
          "metadata": {},
          "execution_count": 21
        }
      ]
    },
    {
      "cell_type": "code",
      "source": [
        "from google.colab import drive\n",
        "drive.mount('/content/drive')"
      ],
      "metadata": {
        "colab": {
          "base_uri": "https://localhost:8080/"
        },
        "id": "bqLWq3wgTti8",
        "outputId": "8a1caa55-4fe2-413c-cdee-315f428025e0"
      },
      "execution_count": 22,
      "outputs": [
        {
          "output_type": "stream",
          "name": "stdout",
          "text": [
            "Drive already mounted at /content/drive; to attempt to forcibly remount, call drive.mount(\"/content/drive\", force_remount=True).\n"
          ]
        }
      ]
    },
    {
      "cell_type": "code",
      "source": [
        "# View first 5 rows\n",
        "print(df.head())\n"
      ],
      "metadata": {
        "colab": {
          "base_uri": "https://localhost:8080/"
        },
        "id": "cqlnmMdSYyH-",
        "outputId": "43404d76-faab-414f-e1ed-fd46dfbe82b5"
      },
      "execution_count": 23,
      "outputs": [
        {
          "output_type": "stream",
          "name": "stdout",
          "text": [
            "   PassengerId  Survived  Pclass  \\\n",
            "0            1         0       3   \n",
            "1            2         1       1   \n",
            "2            3         1       3   \n",
            "3            4         1       1   \n",
            "4            5         0       3   \n",
            "\n",
            "                                                Name     Sex   Age  SibSp  \\\n",
            "0                            Braund, Mr. Owen Harris    male  22.0      1   \n",
            "1  Cumings, Mrs. John Bradley (Florence Briggs Th...  female  38.0      1   \n",
            "2                             Heikkinen, Miss. Laina  female  26.0      0   \n",
            "3       Futrelle, Mrs. Jacques Heath (Lily May Peel)  female  35.0      1   \n",
            "4                           Allen, Mr. William Henry    male  35.0      0   \n",
            "\n",
            "   Parch            Ticket     Fare Cabin Embarked  \n",
            "0      0         A/5 21171   7.2500   NaN        S  \n",
            "1      0          PC 17599  71.2833   C85        C  \n",
            "2      0  STON/O2. 3101282   7.9250   NaN        S  \n",
            "3      0            113803  53.1000  C123        S  \n",
            "4      0            373450   8.0500   NaN        S  \n"
          ]
        }
      ]
    },
    {
      "cell_type": "code",
      "source": [
        "print(\"Dataset shape:\", df.shape)\n"
      ],
      "metadata": {
        "colab": {
          "base_uri": "https://localhost:8080/"
        },
        "id": "LqO0oAX1Y3NC",
        "outputId": "2a34e0dd-8caf-4723-d8ea-9a116143a106"
      },
      "execution_count": 24,
      "outputs": [
        {
          "output_type": "stream",
          "name": "stdout",
          "text": [
            "Dataset shape: (891, 12)\n"
          ]
        }
      ]
    },
    {
      "cell_type": "code",
      "source": [
        "print(\"Column names:\", df.columns.tolist())\n"
      ],
      "metadata": {
        "colab": {
          "base_uri": "https://localhost:8080/"
        },
        "id": "rBypp1eDY_rc",
        "outputId": "d2cb0a31-b4e2-4e7a-8479-f0bc31ec4b27"
      },
      "execution_count": 25,
      "outputs": [
        {
          "output_type": "stream",
          "name": "stdout",
          "text": [
            "Column names: ['PassengerId', 'Survived', 'Pclass', 'Name', 'Sex', 'Age', 'SibSp', 'Parch', 'Ticket', 'Fare', 'Cabin', 'Embarked']\n"
          ]
        }
      ]
    },
    {
      "cell_type": "code",
      "source": [
        "print(df.info())"
      ],
      "metadata": {
        "colab": {
          "base_uri": "https://localhost:8080/"
        },
        "id": "S6UqZra7ZXs0",
        "outputId": "c60f5c51-0708-4f92-9422-d4d5391f970e"
      },
      "execution_count": 26,
      "outputs": [
        {
          "output_type": "stream",
          "name": "stdout",
          "text": [
            "<class 'pandas.core.frame.DataFrame'>\n",
            "RangeIndex: 891 entries, 0 to 890\n",
            "Data columns (total 12 columns):\n",
            " #   Column       Non-Null Count  Dtype  \n",
            "---  ------       --------------  -----  \n",
            " 0   PassengerId  891 non-null    int64  \n",
            " 1   Survived     891 non-null    int64  \n",
            " 2   Pclass       891 non-null    int64  \n",
            " 3   Name         891 non-null    object \n",
            " 4   Sex          891 non-null    object \n",
            " 5   Age          714 non-null    float64\n",
            " 6   SibSp        891 non-null    int64  \n",
            " 7   Parch        891 non-null    int64  \n",
            " 8   Ticket       891 non-null    object \n",
            " 9   Fare         891 non-null    float64\n",
            " 10  Cabin        204 non-null    object \n",
            " 11  Embarked     889 non-null    object \n",
            "dtypes: float64(2), int64(5), object(5)\n",
            "memory usage: 83.7+ KB\n",
            "None\n"
          ]
        }
      ]
    },
    {
      "cell_type": "code",
      "source": [
        "print(df.isnull().sum())"
      ],
      "metadata": {
        "colab": {
          "base_uri": "https://localhost:8080/"
        },
        "id": "xLyjOxvKZfVK",
        "outputId": "7891f77b-44dc-48fd-b2d7-c88b8c79a82e"
      },
      "execution_count": 27,
      "outputs": [
        {
          "output_type": "stream",
          "name": "stdout",
          "text": [
            "PassengerId      0\n",
            "Survived         0\n",
            "Pclass           0\n",
            "Name             0\n",
            "Sex              0\n",
            "Age            177\n",
            "SibSp            0\n",
            "Parch            0\n",
            "Ticket           0\n",
            "Fare             0\n",
            "Cabin          687\n",
            "Embarked         2\n",
            "dtype: int64\n"
          ]
        }
      ]
    },
    {
      "cell_type": "markdown",
      "source": [],
      "metadata": {
        "id": "9-qJdBzgQtjd"
      }
    },
    {
      "cell_type": "markdown",
      "source": [],
      "metadata": {
        "id": "dhyfEDyFQt0y"
      }
    },
    {
      "cell_type": "code",
      "source": [
        "print(df.describe())"
      ],
      "metadata": {
        "colab": {
          "base_uri": "https://localhost:8080/"
        },
        "id": "lGOoP1Y2ZkR0",
        "outputId": "6b31ed68-2569-4ade-9cf2-7630500cc2aa"
      },
      "execution_count": 28,
      "outputs": [
        {
          "output_type": "stream",
          "name": "stdout",
          "text": [
            "       PassengerId    Survived      Pclass         Age       SibSp  \\\n",
            "count   891.000000  891.000000  891.000000  714.000000  891.000000   \n",
            "mean    446.000000    0.383838    2.308642   29.699118    0.523008   \n",
            "std     257.353842    0.486592    0.836071   14.526497    1.102743   \n",
            "min       1.000000    0.000000    1.000000    0.420000    0.000000   \n",
            "25%     223.500000    0.000000    2.000000   20.125000    0.000000   \n",
            "50%     446.000000    0.000000    3.000000   28.000000    0.000000   \n",
            "75%     668.500000    1.000000    3.000000   38.000000    1.000000   \n",
            "max     891.000000    1.000000    3.000000   80.000000    8.000000   \n",
            "\n",
            "            Parch        Fare  \n",
            "count  891.000000  891.000000  \n",
            "mean     0.381594   32.204208  \n",
            "std      0.806057   49.693429  \n",
            "min      0.000000    0.000000  \n",
            "25%      0.000000    7.910400  \n",
            "50%      0.000000   14.454200  \n",
            "75%      0.000000   31.000000  \n",
            "max      6.000000  512.329200  \n"
          ]
        }
      ]
    },
    {
      "cell_type": "code",
      "source": [
        "print(df['Sex'].unique())\n",
        "print(df['Embarked'].unique())"
      ],
      "metadata": {
        "colab": {
          "base_uri": "https://localhost:8080/"
        },
        "id": "nsbS0o9vZqUg",
        "outputId": "6ad2b904-0ad4-4133-b5f0-942bd5fc78b5"
      },
      "execution_count": 29,
      "outputs": [
        {
          "output_type": "stream",
          "name": "stdout",
          "text": [
            "['male' 'female']\n",
            "['S' 'C' 'Q' nan]\n"
          ]
        }
      ]
    },
    {
      "cell_type": "code",
      "source": [
        "#3. Exploratory Data Analysis (EDA) - Visualizations\n",
        "# --- Missing Values Heatmap\n",
        "plt.figure(figsize=(10,6))\n",
        "sns.heatmap(df.isnull(), cbar=False, cmap=\"viridis\")\n",
        "plt.title(\"Missing Values Heatmap\")\n",
        "plt.show()"
      ],
      "metadata": {
        "colab": {
          "base_uri": "https://localhost:8080/",
          "height": 614
        },
        "id": "8AOxGSXTUMim",
        "outputId": "697bfe96-0d9a-458f-8426-a2d1bdea1f7e"
      },
      "execution_count": 30,
      "outputs": [
        {
          "output_type": "display_data",
          "data": {
            "text/plain": [
              "<Figure size 1000x600 with 1 Axes>"
            ],
            "image/png": "[encoded data removed]"
          },
          "metadata": {}
        }
      ]
    },
    {
      "cell_type": "code",
      "source": [
        "# --- Survival Count\n",
        "sns.countplot(x=\"Survived\", data=df)\n",
        "plt.title(\"Survival Count (0 = No, 1 = Yes)\")\n",
        "plt.show()\n"
      ],
      "metadata": {
        "colab": {
          "base_uri": "https://localhost:8080/",
          "height": 472
        },
        "id": "54mXIl5YVKUz",
        "outputId": "ef12b2be-c90d-493b-9881-b81c21ffa798"
      },
      "execution_count": 31,
      "outputs": [
        {
          "output_type": "display_data",
          "data": {
            "text/plain": [
              "<Figure size 640x480 with 1 Axes>"
            ],
            "image/png": "[encoded data removed]"
          },
          "metadata": {}
        }
      ]
    },
    {
      "cell_type": "code",
      "source": [
        "# --- Survival by Sex\n",
        "sns.countplot(x=\"Sex\", hue=\"Survived\", data=df)\n",
        "plt.title(\"Survival by Sex\")\n",
        "plt.show()"
      ],
      "metadata": {
        "colab": {
          "base_uri": "https://localhost:8080/",
          "height": 472
        },
        "id": "uUgrdlfGVQCp",
        "outputId": "c4fbbde9-afde-4b0d-97d2-37a810f8cf19"
      },
      "execution_count": 32,
      "outputs": [
        {
          "output_type": "display_data",
          "data": {
            "text/plain": [
              "<Figure size 640x480 with 1 Axes>"
            ],
            "image/png": "[encoded data removed]"
          },
          "metadata": {}
        }
      ]
    },
    {
      "cell_type": "code",
      "source": [
        "# --- Survival by Passenger Class\n",
        "sns.countplot(x=\"Pclass\", hue=\"Survived\", data=df)\n",
        "plt.title(\"Survival by Passenger Class\")\n",
        "plt.show()"
      ],
      "metadata": {
        "colab": {
          "base_uri": "https://localhost:8080/",
          "height": 472
        },
        "id": "gxyK-MkUVTSK",
        "outputId": "ee57167d-9415-455f-b20c-32a56754929d"
      },
      "execution_count": 33,
      "outputs": [
        {
          "output_type": "display_data",
          "data": {
            "text/plain": [
              "<Figure size 640x480 with 1 Axes>"
            ],
            "image/png": "[encoded data removed]"
          },
          "metadata": {}
        }
      ]
    },
    {
      "cell_type": "code",
      "source": [
        "# --- Age Distribution\n",
        "plt.figure(figsize=(8,6))\n",
        "sns.histplot(df[\"Age\"].dropna(), kde=True, bins=30, color=\"blue\")\n",
        "plt.title(\"Age Distribution\")\n",
        "plt.xlabel(\"Age\")\n",
        "plt.ylabel(\"Count\")\n",
        "plt.show()\n",
        "\n"
      ],
      "metadata": {
        "colab": {
          "base_uri": "https://localhost:8080/",
          "height": 564
        },
        "id": "CEaka3GuVVAT",
        "outputId": "01ff2439-767a-4541-cd2b-55e562fe0e5f"
      },
      "execution_count": 34,
      "outputs": [
        {
          "output_type": "display_data",
          "data": {
            "text/plain": [
              "<Figure size 800x600 with 1 Axes>"
            ],
            "image/png": "[encoded data removed]"
          },
          "metadata": {}
        }
      ]
    },
    {
      "cell_type": "code",
      "source": [
        "# --- Age vs Survival\n",
        "plt.figure(figsize=(8,6))\n",
        "sns.kdeplot(df[df[\"Survived\"]==1][\"Age\"], label=\"Survived\", shade=True)\n",
        "sns.kdeplot(df[df[\"Survived\"]==0][\"Age\"], label=\"Did Not Survive\", shade=True)\n",
        "plt.title(\"Age Distribution by Survival\")\n",
        "plt.legend()\n",
        "plt.show()"
      ],
      "metadata": {
        "colab": {
          "base_uri": "https://localhost:8080/",
          "height": 772
        },
        "id": "xf7VHQp3VaV7",
        "outputId": "e0775939-ebb8-45e2-fd93-3059772d7c45"
      },
      "execution_count": 35,
      "outputs": [
        {
          "output_type": "stream",
          "name": "stderr",
          "text": [
            "/tmp/ipython-input-1953437669.py:3: FutureWarning: \n",
            "\n",
            "`shade` is now deprecated in favor of `fill`; setting `fill=True`.\n",
            "This will become an error in seaborn v0.14.0; please update your code.\n",
            "\n",
            "  sns.kdeplot(df[df[\"Survived\"]==1][\"Age\"], label=\"Survived\", shade=True)\n",
            "/tmp/ipython-input-1953437669.py:4: FutureWarning: \n",
            "\n",
            "`shade` is now deprecated in favor of `fill`; setting `fill=True`.\n",
            "This will become an error in seaborn v0.14.0; please update your code.\n",
            "\n",
            "  sns.kdeplot(df[df[\"Survived\"]==0][\"Age\"], label=\"Did Not Survive\", shade=True)\n"
          ]
        },
        {
          "output_type": "display_data",
          "data": {
            "text/plain": [
              "<Figure size 800x600 with 1 Axes>"
            ],
            "image/png": "[encoded data removed]"
          },
          "metadata": {}
        }
      ]
    },
    {
      "cell_type": "code",
      "source": [
        "# --- Fare Distribution\n",
        "plt.figure(figsize=(8,6))\n",
        "sns.histplot(df[\"Fare\"], bins=40, kde=True)\n",
        "plt.title(\"Fare Distribution\")\n",
        "plt.show()"
      ],
      "metadata": {
        "colab": {
          "base_uri": "https://localhost:8080/",
          "height": 564
        },
        "id": "UO4KKH0KVcif",
        "outputId": "a89f8dec-9b97-4907-e53c-77c2595c803d"
      },
      "execution_count": 36,
      "outputs": [
        {
          "output_type": "display_data",
          "data": {
            "text/plain": [
              "<Figure size 800x600 with 1 Axes>"
            ],
            "image/png": "[encoded data removed]"
          },
          "metadata": {}
        }
      ]
    },
    {
      "cell_type": "code",
      "source": [
        "# --- Survival by Fare\n",
        "plt.figure(figsize=(8,6))\n",
        "sns.boxplot(x=\"Survived\", y=\"Fare\", data=df)\n",
        "plt.title(\"Fare vs Survival\")\n",
        "plt.show()\n"
      ],
      "metadata": {
        "colab": {
          "base_uri": "https://localhost:8080/",
          "height": 564
        },
        "id": "DJWDZnf8Vgx2",
        "outputId": "0146a24e-ff45-4966-c5a6-779d7063282f"
      },
      "execution_count": 37,
      "outputs": [
        {
          "output_type": "display_data",
          "data": {
            "text/plain": [
              "<Figure size 800x600 with 1 Axes>"
            ],
            "image/png": "[encoded data removed]"
          },
          "metadata": {}
        }
      ]
    },
    {
      "cell_type": "code",
      "source": [
        "# --- Create IsAlone feature\n",
        "df['FamilySize'] = df['SibSp'] + df['Parch']\n",
        "df['IsAlone'] = 0\n",
        "df.loc[df['FamilySize'] == 0, 'IsAlone'] = 1\n",
        "\n",
        "# --- IsAlone vs Survival\n",
        "sns.countplot(x=\"IsAlone\", hue=\"Survived\", data=df)\n",
        "plt.title(\"IsAlone vs Survival\")\n",
        "plt.show()\n",
        "\n",
        "# --- Title vs Survival (after feature engineering)\n",
        "if \"Title\" in df.columns:\n",
        "    plt.figure(figsize=(10,6))\n",
        "    sns.countplot(x=\"Title\", hue=\"Survived\", data=df)\n",
        "    plt.title(\"Title vs Survival\")\n",
        "    plt.show()"
      ],
      "metadata": {
        "colab": {
          "base_uri": "https://localhost:8080/",
          "height": 472
        },
        "id": "0M816XL3VsLt",
        "outputId": "558a2e84-db28-4a41-bfd3-02b6027a2696"
      },
      "execution_count": 38,
      "outputs": [
        {
          "output_type": "display_data",
          "data": {
            "text/plain": [
              "<Figure size 640x480 with 1 Axes>"
            ],
            "image/png": "[encoded data removed]"
          },
          "metadata": {}
        }
      ]
    },
    {
      "cell_type": "code",
      "source": [
        "# ======================\n",
        "# Handling Missing Values\n",
        "# ======================\n",
        "\n",
        "# Check missing values\n",
        "print(\"Missing values before handling:\")\n",
        "print(df.isnull().sum())\n",
        "\n",
        "# ---- Age ----\n",
        "# Strategy: Fill missing Age with median (less sensitive to outliers)\n",
        "df[\"Age\"].fillna(df[\"Age\"].median(), inplace=True)\n",
        "\n",
        "# ---- Cabin ----\n",
        "# Strategy: Many values missing → mark them as \"Missing\"\n",
        "df[\"Cabin\"] = df[\"Cabin\"].fillna(\"Missing\")\n",
        "\n",
        "# ---- Embarked (extra check) ----\n",
        "# Fill with mode (most frequent value)\n",
        "df[\"Embarked\"].fillna(df[\"Embarked\"].mode()[0], inplace=True)\n",
        "\n",
        "# Verify again\n",
        "print(\"\\nMissing values after handling:\")\n",
        "print(df.isnull().sum())"
      ],
      "metadata": {
        "colab": {
          "base_uri": "https://localhost:8080/"
        },
        "id": "weMnx3hKmTqz",
        "outputId": "31fb7f0c-cc49-46c4-ce38-8a994ba2b920"
      },
      "execution_count": 39,
      "outputs": [
        {
          "output_type": "stream",
          "name": "stdout",
          "text": [
            "Missing values before handling:\n",
            "PassengerId      0\n",
            "Survived         0\n",
            "Pclass           0\n",
            "Name             0\n",
            "Sex              0\n",
            "Age            177\n",
            "SibSp            0\n",
            "Parch            0\n",
            "Ticket           0\n",
            "Fare             0\n",
            "Cabin          687\n",
            "Embarked         2\n",
            "FamilySize       0\n",
            "IsAlone          0\n",
            "dtype: int64\n",
            "\n",
            "Missing values after handling:\n",
            "PassengerId    0\n",
            "Survived       0\n",
            "Pclass         0\n",
            "Name           0\n",
            "Sex            0\n",
            "Age            0\n",
            "SibSp          0\n",
            "Parch          0\n",
            "Ticket         0\n",
            "Fare           0\n",
            "Cabin          0\n",
            "Embarked       0\n",
            "FamilySize     0\n",
            "IsAlone        0\n",
            "dtype: int64\n"
          ]
        },
        {
          "output_type": "stream",
          "name": "stderr",
          "text": [
            "/tmp/ipython-input-2559793854.py:11: FutureWarning: A value is trying to be set on a copy of a DataFrame or Series through chained assignment using an inplace method.\n",
            "The behavior will change in pandas 3.0. This inplace method will never work because the intermediate object on which we are setting values always behaves as a copy.\n",
            "\n",
            "For example, when doing 'df[col].method(value, inplace=True)', try using 'df.method({col: value}, inplace=True)' or df[col] = df[col].method(value) instead, to perform the operation inplace on the original object.\n",
            "\n",
            "\n",
            "  df[\"Age\"].fillna(df[\"Age\"].median(), inplace=True)\n",
            "/tmp/ipython-input-2559793854.py:19: FutureWarning: A value is trying to be set on a copy of a DataFrame or Series through chained assignment using an inplace method.\n",
            "The behavior will change in pandas 3.0. This inplace method will never work because the intermediate object on which we are setting values always behaves as a copy.\n",
            "\n",
            "For example, when doing 'df[col].method(value, inplace=True)', try using 'df.method({col: value}, inplace=True)' or df[col] = df[col].method(value) instead, to perform the operation inplace on the original object.\n",
            "\n",
            "\n",
            "  df[\"Embarked\"].fillna(df[\"Embarked\"].mode()[0], inplace=True)\n"
          ]
        }
      ]
    },
    {
      "cell_type": "code",
      "source": [
        "# 3.1 Age: fill by median grouped by Sex & Pclass (better than global median)\n",
        "if \"Age\" in df.columns:\n",
        "    df[\"Age\"] = df.groupby([\"Sex\",\"Pclass\"])[\"Age\"].transform(lambda x: x.fillna(x.median()))\n",
        "    df[\"Age\"] = df[\"Age\"].fillna(df[\"Age\"].median())\n",
        "\n",
        "# 3.2 Fare: fill with median\n",
        "if \"Fare\" in df.columns:\n",
        "    df[\"Fare\"] = df[\"Fare\"].fillna(df[\"Fare\"].median())\n",
        "\n",
        "# 3.3 Embarked: fill with mode\n",
        "if \"Embarked\" in df.columns:\n",
        "    df[\"Embarked\"] = df[\"Embarked\"].fillna(df[\"Embarked\"].mode()[0])\n",
        "\n",
        "# 3.4 Cabin: keep raw cabin or mark missing with 'U' (unknown)\n",
        "if \"Cabin\" in df.columns:\n",
        "    df[\"Cabin\"] = df[\"Cabin\"].fillna(\"Unknown\")"
      ],
      "metadata": {
        "id": "4D0M9f9AZx5q"
      },
      "execution_count": 40,
      "outputs": []
    },
    {
      "cell_type": "code",
      "source": [
        "# FamilySize\n",
        "df[\"FamilySize\"] = 0\n",
        "if {\"SibSp\",\"Parch\"}.issubset(df.columns):\n",
        "    df[\"FamilySize\"] = df[\"SibSp\"] + df[\"Parch\"] + 1\n",
        "else:\n",
        "    # default if columns missing\n",
        "    df[\"FamilySize\"] = 1\n",
        "\n",
        "# IsAlone\n",
        "df[\"IsAlone\"] = (df[\"FamilySize\"] == 1).astype(int)\n",
        "\n",
        "# Title extraction from Name\n",
        "if \"Name\" in df.columns:\n",
        "    df[\"Title\"] = df[\"Name\"].str.extract(r\",\\s*([^\\.]+)\\.\", expand=False).str.strip()\n",
        "    # normalize rare titles\n",
        "    common_titles = [\"Mr\",\"Mrs\",\"Miss\",\"Master\"]\n",
        "    df[\"Title\"] = df[\"Title\"].apply(lambda t: t if t in common_titles else \"Rare\")\n",
        "else:\n",
        "    df[\"Title\"] = \"Unknown\"\n",
        "\n",
        "# Cabin deck: first letter of Cabin (A,B,C...) replace Unknown or NaN with 'U'\n",
        "if \"Cabin\" in df.columns:\n",
        "    df[\"CabinDeck\"] = df[\"Cabin\"].astype(str).str[0].replace({\"U\":\"U\",\"n\":\"U\"})\n",
        "else:\n",
        "    df[\"CabinDeck\"] = \"U\"\n",
        "\n",
        "# Fare per person (useful when families split fare)\n",
        "df[\"FarePerPerson\"] = df[\"Fare\"] / df[\"FamilySize\"]\n",
        "df[\"FarePerPerson\"] = df[\"FarePerPerson\"].replace([np.inf, -np.inf], np.nan).fillna(df[\"Fare\"].median())"
      ],
      "metadata": {
        "id": "BFz7jRg5Z474"
      },
      "execution_count": 41,
      "outputs": []
    },
    {
      "cell_type": "code",
      "source": [
        "# AgeBand (bins)\n",
        "bins = [0, 12, 20, 40, 60, 120]\n",
        "labels = [\"Child\",\"Teen\",\"Adult\",\"Middle\",\"Senior\"]\n",
        "df[\"AgeBand\"] = pd.cut(df[\"Age\"], bins=bins, labels=labels)\n",
        "\n",
        "# FamilySizeBand\n",
        "df[\"FamilySizeBand\"] = pd.cut(df[\"FamilySize\"], bins=[0,1,4,20], labels=[\"1\",\"2-4\",\"5+\"], right=True)"
      ],
      "metadata": {
        "id": "reqmx8RrZ9yL"
      },
      "execution_count": 42,
      "outputs": []
    },
    {
      "cell_type": "code",
      "source": [
        "to_one_hot = [c for c in [\"Sex\",\"Embarked\",\"Title\",\"CabinDeck\",\"AgeBand\",\"FamilySizeBand\"] if c in df.columns]\n",
        "df_encoded = pd.get_dummies(df, columns=to_one_hot, drop_first=True)"
      ],
      "metadata": {
        "id": "xEzciXnyaCOf"
      },
      "execution_count": 43,
      "outputs": []
    },
    {
      "cell_type": "code",
      "source": [
        "from sklearn.pipeline import Pipeline\n",
        "from sklearn.compose import ColumnTransformer\n",
        "from sklearn.impute import SimpleImputer\n",
        "from sklearn.preprocessing import OneHotEncoder, StandardScaler\n",
        "\n"
      ],
      "metadata": {
        "id": "mBZmB9FMaKL-"
      },
      "execution_count": 44,
      "outputs": []
    },
    {
      "cell_type": "code",
      "source": [
        "numeric_cols = [c for c in [\"Age\",\"Fare\",\"FamilySize\",\"FarePerPerson\"] if c in df.columns]\n",
        "categorical_cols = [c for c in [\"Pclass\",\"Sex\",\"Embarked\",\"Title\",\"CabinDeck\",\"AgeBand\",\"FamilySizeBand\"] if c in df.columns]\n",
        "\n",
        "numeric_transformer = Pipeline([\n",
        "    (\"imputer\", SimpleImputer(strategy=\"median\")),\n",
        "    (\"scaler\", StandardScaler())\n",
        "])"
      ],
      "metadata": {
        "id": "t55ReZvDaswC"
      },
      "execution_count": 45,
      "outputs": []
    },
    {
      "cell_type": "code",
      "source": [
        "categorical_transformer = Pipeline([\n",
        "    (\"imputer\", SimpleImputer(strategy=\"most_frequent\")),\n",
        "    (\"ohe\", OneHotEncoder(handle_unknown=\"ignore\"))\n",
        "])"
      ],
      "metadata": {
        "id": "aei-Su4qav2s"
      },
      "execution_count": 46,
      "outputs": []
    },
    {
      "cell_type": "code",
      "source": [
        "preprocessor = ColumnTransformer([\n",
        "    (\"num\", numeric_transformer, numeric_cols),\n",
        "    (\"cat\", categorical_transformer, categorical_cols)\n",
        "], remainder=\"drop\")\n",
        "\n",
        "X = df[numeric_cols + categorical_cols]  # features only\n",
        "X_processed = preprocessor.fit_transform(X)"
      ],
      "metadata": {
        "id": "0DYgHPO1abVJ"
      },
      "execution_count": 47,
      "outputs": []
    },
    {
      "cell_type": "code",
      "source": [
        "keep = [\n",
        "    \"PassengerId\", \"Survived\", \"Pclass\", \"Age\", \"Fare\",\n",
        "    \"FamilySize\", \"IsAlone\", \"FarePerPerson\", \"Title\", \"CabinDeck\",\n",
        "    \"Embarked\", \"Sex\"\n",
        "]\n",
        "keep_existing = [c for c in keep if c in df.columns]\n",
        "df_processed = df[keep_existing].copy()"
      ],
      "metadata": {
        "id": "WBQhgaida_Mr"
      },
      "execution_count": 48,
      "outputs": []
    },
    {
      "cell_type": "code",
      "source": [
        "# No nulls in critical columns (after imputation)\n",
        "critical = [\"PassengerId\",\"Age\",\"Fare\",\"FamilySize\",\"IsAlone\"]\n",
        "for c in critical:\n",
        "    if c in df_processed.columns:\n",
        "        assert df_processed[c].isnull().sum() == 0, f\"Nulls found in {c}\"\n",
        "\n",
        "# FamilySize constraints\n",
        "assert (df_processed[\"FamilySize\"] >= 1).all()\n",
        "\n",
        "# Basic summary\n",
        "print(df_processed.describe(include=\"all\").T)\n",
        "print(\"Value counts sample (IsAlone):\\n\", df_processed[\"IsAlone\"].value_counts())"
      ],
      "metadata": {
        "colab": {
          "base_uri": "https://localhost:8080/"
        },
        "id": "30hy4UwWbC91",
        "outputId": "1dc349f5-bf8b-47d6-b54e-ae01ebe29c45"
      },
      "execution_count": 49,
      "outputs": [
        {
          "output_type": "stream",
          "name": "stdout",
          "text": [
            "               count unique   top freq       mean         std   min     25%  \\\n",
            "PassengerId    891.0    NaN   NaN  NaN      446.0  257.353842   1.0   223.5   \n",
            "Survived       891.0    NaN   NaN  NaN   0.383838    0.486592   0.0     0.0   \n",
            "Pclass         891.0    NaN   NaN  NaN   2.308642    0.836071   1.0     2.0   \n",
            "Age            891.0    NaN   NaN  NaN  29.361582   13.019697  0.42    22.0   \n",
            "Fare           891.0    NaN   NaN  NaN  32.204208   49.693429   0.0  7.9104   \n",
            "FamilySize     891.0    NaN   NaN  NaN   1.904602    1.613459   1.0     1.0   \n",
            "IsAlone        891.0    NaN   NaN  NaN   0.602694    0.489615   0.0     0.0   \n",
            "FarePerPerson  891.0    NaN   NaN  NaN  19.916375   35.841257   0.0    7.25   \n",
            "Title            891      5    Mr  517        NaN         NaN   NaN     NaN   \n",
            "CabinDeck        891      9     M  687        NaN         NaN   NaN     NaN   \n",
            "Embarked         891      3     S  646        NaN         NaN   NaN     NaN   \n",
            "Sex              891      2  male  577        NaN         NaN   NaN     NaN   \n",
            "\n",
            "                   50%        75%       max  \n",
            "PassengerId      446.0      668.5     891.0  \n",
            "Survived           0.0        1.0       1.0  \n",
            "Pclass             3.0        3.0       3.0  \n",
            "Age               28.0       35.0      80.0  \n",
            "Fare           14.4542       31.0  512.3292  \n",
            "FamilySize         1.0        2.0      11.0  \n",
            "IsAlone            1.0        1.0       1.0  \n",
            "FarePerPerson      8.3  23.666667  512.3292  \n",
            "Title              NaN        NaN       NaN  \n",
            "CabinDeck          NaN        NaN       NaN  \n",
            "Embarked           NaN        NaN       NaN  \n",
            "Sex                NaN        NaN       NaN  \n",
            "Value counts sample (IsAlone):\n",
            " IsAlone\n",
            "1    537\n",
            "0    354\n",
            "Name: count, dtype: int64\n"
          ]
        }
      ]
    },
    {
      "cell_type": "code",
      "source": [
        "import os\n",
        "os.makedirs(\"data/processed\", exist_ok=True)"
      ],
      "metadata": {
        "id": "CbMpQ5ITXDUg"
      },
      "execution_count": 50,
      "outputs": []
    },
    {
      "cell_type": "code",
      "source": [
        "df.to_csv(\"data/processed/titanic_clean.csv\", index=False)\n",
        "print(\"✅ Cleaned dataset saved successfully!\")"
      ],
      "metadata": {
        "colab": {
          "base_uri": "https://localhost:8080/"
        },
        "id": "4hKADZdSFCIe",
        "outputId": "c74ea336-227d-48cc-e348-2ff0da0154bd"
      },
      "execution_count": 51,
      "outputs": [
        {
          "output_type": "stream",
          "name": "stdout",
          "text": [
            "✅ Cleaned dataset saved successfully!\n"
          ]
        }
      ]
    },
    {
      "cell_type": "markdown",
      "source": [
        "This makes pipeline reusable. Each time run the pipeline, it overwrites the cleaned dataset."
      ],
      "metadata": {
        "id": "hRMELWNrGfgv"
      }
    },
    {
      "cell_type": "code",
      "source": [
        "def transform_data(df):\n",
        "    # cleaning + feature engineering steps\n",
        "    df[\"Age\"].fillna(df[\"Age\"].median(), inplace=True)\n",
        "\n",
        "    # Save cleaned dataset\n",
        "    os.makedirs(\"../data/processed\", exist_ok=True)\n",
        "    df.to_csv(\"../data/processed/titanic_clean.csv\", index=False)\n",
        "\n",
        "    print(\"✅ Cleaned dataset saved into processed/ folder\")\n",
        "    return df"
      ],
      "metadata": {
        "id": "CAdjG5KUGbDp"
      },
      "execution_count": 52,
      "outputs": []
    },
    {
      "cell_type": "code",
      "source": [
        "import sqlite3\n",
        "import pandas as pd\n",
        "# Load the cleaned Titanic dataset\n",
        "df = pd.read_csv(\"data/processed/titanic_clean.csv\")\n",
        "print(\"✅ Cleaned dataset loaded successfully!\")"
      ],
      "metadata": {
        "colab": {
          "base_uri": "https://localhost:8080/"
        },
        "id": "rXC41r29Gl6E",
        "outputId": "f615d42d-3c3d-4fa1-b0d6-e0e309465546"
      },
      "execution_count": 53,
      "outputs": [
        {
          "output_type": "stream",
          "name": "stdout",
          "text": [
            "✅ Cleaned dataset loaded successfully!\n"
          ]
        }
      ]
    },
    {
      "cell_type": "code",
      "source": [
        "conn = sqlite3.connect(\"titanic.db\")\n",
        "\n",
        "# Execute SQL queries using pd.read_sql()\n",
        "query_limit = \"\"\"\n",
        "SELECT * FROM titanic_clean LIMIT 10;\n",
        "\"\"\"\n",
        "result_limit = pd.read_sql(query_limit, conn)\n",
        "print(\"First 10 rows:\")\n",
        "print(result_limit)\n",
        "\n",
        "query_name_age = \"\"\"\n",
        "SELECT Name, Age FROM titanic_clean;\n",
        "\"\"\"\n",
        "result_name_age = pd.read_sql(query_name_age, conn)\n",
        "print(\"\\nNames and Ages:\")\n",
        "print(result_name_age.head()) # Print head to avoid excessive output\n",
        "\n",
        "# Close the connection\n",
        "conn.close()"
      ],
      "metadata": {
        "colab": {
          "base_uri": "https://localhost:8080/"
        },
        "id": "PVIbWfn65LVQ",
        "outputId": "da14d54a-ca64-424f-ed8a-3b1e027e8205"
      },
      "execution_count": 56,
      "outputs": [
        {
          "output_type": "stream",
          "name": "stdout",
          "text": [
            "First 10 rows:\n",
            "   PassengerId  Survived  Pclass  \\\n",
            "0            1         0       3   \n",
            "1            2         1       1   \n",
            "2            3         1       3   \n",
            "3            4         1       1   \n",
            "4            5         0       3   \n",
            "5            6         0       3   \n",
            "6            7         0       1   \n",
            "7            8         0       3   \n",
            "8            9         1       3   \n",
            "9           10         1       2   \n",
            "\n",
            "                                                Name  Sex   Age  SibSp  Parch  \\\n",
            "0                            Braund, Mr. Owen Harris    0  22.0      1      0   \n",
            "1  Cumings, Mrs. John Bradley (Florence Briggs Th...    1  38.0      1      0   \n",
            "2                             Heikkinen, Miss. Laina    1  26.0      0      0   \n",
            "3       Futrelle, Mrs. Jacques Heath (Lily May Peel)    1  35.0      1      0   \n",
            "4                           Allen, Mr. William Henry    0  35.0      0      0   \n",
            "5                                   Moran, Mr. James    0  28.0      0      0   \n",
            "6                            McCarthy, Mr. Timothy J    0  54.0      0      0   \n",
            "7                     Palsson, Master. Gosta Leonard    0   2.0      3      1   \n",
            "8  Johnson, Mrs. Oscar W (Elisabeth Vilhelmina Berg)    1  27.0      0      2   \n",
            "9                Nasser, Mrs. Nicholas (Adele Achem)    1  14.0      1      0   \n",
            "\n",
            "             Ticket     Fare  Embarked_Q  Embarked_S  FamilySize  IsAlone  \n",
            "0         A/5 21171   7.2500           0           1           2        0  \n",
            "1          PC 17599  71.2833           0           0           2        0  \n",
            "2  STON/O2. 3101282   7.9250           0           1           1        1  \n",
            "3            113803  53.1000           0           1           2        0  \n",
            "4            373450   8.0500           0           1           1        1  \n",
            "5            330877   8.4583           1           0           1        1  \n",
            "6             17463  51.8625           0           1           1        1  \n",
            "7            349909  21.0750           0           1           5        0  \n",
            "8            347742  11.1333           0           1           3        0  \n",
            "9            237736  30.0708           0           0           2        0  \n",
            "\n",
            "Names and Ages:\n",
            "                                                Name   Age\n",
            "0                            Braund, Mr. Owen Harris  22.0\n",
            "1  Cumings, Mrs. John Bradley (Florence Briggs Th...  38.0\n",
            "2                             Heikkinen, Miss. Laina  26.0\n",
            "3       Futrelle, Mrs. Jacques Heath (Lily May Peel)  35.0\n",
            "4                           Allen, Mr. William Henry  35.0\n"
          ]
        }
      ]
    },
    {
      "cell_type": "code",
      "source": [
        "conn = sqlite3.connect(\"titanic.db\")\n",
        "\n",
        "# Execute SQL queries using pd.read_sql()\n",
        "query_limit = \"\"\"\n",
        "SELECT COUNT(*) AS total_passengers FROM titanic_clean;\n",
        "\"\"\"\n",
        "print(\"Total number of passengers:\", pd.read_sql(query_limit, conn))\n",
        "# Close the connection\n",
        "conn.close()"
      ],
      "metadata": {
        "colab": {
          "base_uri": "https://localhost:8080/"
        },
        "id": "L2od8Y5J5iKN",
        "outputId": "ffc1c2bd-a99c-4a5e-c5a3-fa8dc1fbf4b7"
      },
      "execution_count": 58,
      "outputs": [
        {
          "output_type": "stream",
          "name": "stdout",
          "text": [
            "Total number of passengers:    total_passengers\n",
            "0               891\n"
          ]
        }
      ]
    },
    {
      "cell_type": "code",
      "source": [
        "# Connect to SQLite database (creates titanic.db if it doesn't exist)\n",
        "conn = sqlite3.connect(\"titanic.db\")\n",
        "\n",
        "# Save dataframe into a table called 'passengers'\n",
        "df.to_sql(\"passengers\", conn, if_exists=\"replace\", index=False)\n",
        "\n",
        "print(\"✅ Data stored in SQLite successfully!\")"
      ],
      "metadata": {
        "colab": {
          "base_uri": "https://localhost:8080/"
        },
        "id": "hnVC6C7LHA-X",
        "outputId": "ae6dfaa6-1352-4e20-fa8e-240edf1accaf"
      },
      "execution_count": 59,
      "outputs": [
        {
          "output_type": "stream",
          "name": "stdout",
          "text": [
            "✅ Data stored in SQLite successfully!\n"
          ]
        }
      ]
    },
    {
      "cell_type": "code",
      "source": [
        "# Example: survival rate by gender\n",
        "query = \"\"\"\n",
        "SELECT Sex, AVG(Survived) as survival_rate\n",
        "FROM passengers\n",
        "GROUP BY Sex;\n",
        "\"\"\"\n",
        "\n",
        "result = pd.read_sql(query, conn)\n",
        "print(result)\n",
        "\n",
        "# Close connection\n",
        "conn.close()\n"
      ],
      "metadata": {
        "colab": {
          "base_uri": "https://localhost:8080/"
        },
        "id": "wbzT2z9JHFAJ",
        "outputId": "d5766dce-1b4f-44fa-f777-588205118ca7"
      },
      "execution_count": 60,
      "outputs": [
        {
          "output_type": "stream",
          "name": "stdout",
          "text": [
            "      Sex  survival_rate\n",
            "0  female       0.742038\n",
            "1    male       0.188908\n"
          ]
        }
      ]
    },
    {
      "cell_type": "markdown",
      "source": [
        "Survival Rate by Passenger Class - Checks if 1st class passengers had a better chance of survival than 2nd or 3rd."
      ],
      "metadata": {
        "id": "QY3GX-leFE6X"
      }
    },
    {
      "cell_type": "code",
      "source": [
        "import sqlite3\n",
        "import pandas as pd\n",
        "\n",
        "# Connect to SQLite database\n",
        "conn = sqlite3.connect(\"titanic.db\")\n",
        "\n",
        "query = \"\"\"\n",
        "SELECT Pclass, AVG(Survived) AS survival_rate\n",
        "FROM passengers\n",
        "GROUP BY Pclass\n",
        "ORDER BY Pclass;\n",
        "\"\"\"\n",
        "\n",
        "result = pd.read_sql(query, conn)\n",
        "print(result)\n",
        "\n",
        "# Close connection\n",
        "conn.close()"
      ],
      "metadata": {
        "colab": {
          "base_uri": "https://localhost:8080/"
        },
        "id": "v2DZAeiQFyMw",
        "outputId": "bf3cab46-4e29-408c-bff9-d3c295d7fb9c"
      },
      "execution_count": 61,
      "outputs": [
        {
          "output_type": "stream",
          "name": "stdout",
          "text": [
            "   Pclass  survival_rate\n",
            "0       1       0.629630\n",
            "1       2       0.472826\n",
            "2       3       0.242363\n"
          ]
        }
      ]
    },
    {
      "cell_type": "markdown",
      "source": [
        "Average Age of Survivors vs Non-Survivors -Tells if younger passengers were more likely to survive."
      ],
      "metadata": {
        "id": "7xQtWw-CGQ4z"
      }
    },
    {
      "cell_type": "code",
      "source": [
        "conn = sqlite3.connect(\"titanic.db\")\n",
        "query = \"\"\"\n",
        "SELECT Survived, AVG(Age) AS avg_age\n",
        "FROM passengers\n",
        "GROUP BY Survived;\n",
        "\"\"\"\n",
        "result = pd.read_sql(query, conn)\n",
        "print(result)\n",
        "conn.close()"
      ],
      "metadata": {
        "colab": {
          "base_uri": "https://localhost:8080/"
        },
        "id": "Z95pZhsCGUMj",
        "outputId": "b96aaaac-1b79-4af1-a7c0-0f3069ca6a46"
      },
      "execution_count": 62,
      "outputs": [
        {
          "output_type": "stream",
          "name": "stdout",
          "text": [
            "   Survived    avg_age\n",
            "0         0  30.028233\n",
            "1         1  28.291433\n"
          ]
        }
      ]
    },
    {
      "cell_type": "markdown",
      "source": [
        "Top 5 Oldest Survivors- Finds the oldest people who survived."
      ],
      "metadata": {
        "id": "AUCv5vUbG342"
      }
    },
    {
      "cell_type": "code",
      "source": [
        "conn = sqlite3.connect(\"titanic.db\")\n",
        "query = \"\"\"\n",
        "SELECT Name, Age, Sex, Pclass\n",
        "FROM passengers\n",
        "WHERE Survived = 1\n",
        "ORDER BY Age DESC\n",
        "LIMIT 5;\n",
        "\"\"\"\n",
        "result = pd.read_sql(query, conn)\n",
        "print(result)\n",
        "conn.close()"
      ],
      "metadata": {
        "colab": {
          "base_uri": "https://localhost:8080/"
        },
        "id": "yhL1wNu_Gvge",
        "outputId": "0842f5ed-2025-4cb1-b6a4-9953b4ad4136"
      },
      "execution_count": 63,
      "outputs": [
        {
          "output_type": "stream",
          "name": "stdout",
          "text": [
            "                                        Name   Age     Sex  Pclass\n",
            "0       Barkworth, Mr. Algernon Henry Wilson  80.0    male       1\n",
            "1          Andrews, Miss. Kornelia Theodosia  63.0  female       1\n",
            "2                     Turkula, Mrs. (Hedwig)  63.0  female       3\n",
            "3                         Harris, Mr. George  62.0    male       2\n",
            "4  Stone, Mrs. George Nelson (Martha Evelyn)  62.0  female       1\n"
          ]
        }
      ]
    },
    {
      "cell_type": "markdown",
      "source": [
        "Number of Survivors & Deaths by Gender-A breakdown of how many men vs women survived or died."
      ],
      "metadata": {
        "id": "hjfVHq1vHUH3"
      }
    },
    {
      "cell_type": "code",
      "source": [
        "conn = sqlite3.connect(\"titanic.db\")\n",
        "query = \"\"\"\n",
        "SELECT Sex, Survived, COUNT(*) AS count\n",
        "FROM passengers\n",
        "GROUP BY Sex, Survived\n",
        "ORDER BY Sex, Survived;\n",
        "\"\"\"\n",
        "result = pd.read_sql(query, conn)\n",
        "print(result)\n",
        "conn.close()"
      ],
      "metadata": {
        "colab": {
          "base_uri": "https://localhost:8080/"
        },
        "id": "d84kUc4jHNIk",
        "outputId": "d224b131-22ca-49e9-d906-b62bb6af4609"
      },
      "execution_count": 64,
      "outputs": [
        {
          "output_type": "stream",
          "name": "stdout",
          "text": [
            "      Sex  Survived  count\n",
            "0  female         0     81\n",
            "1  female         1    233\n",
            "2    male         0    468\n",
            "3    male         1    109\n"
          ]
        }
      ]
    },
    {
      "cell_type": "markdown",
      "source": [
        "Survival by age group (child, adult, senior)."
      ],
      "metadata": {
        "id": "13F8CV5I6R0H"
      }
    },
    {
      "cell_type": "code",
      "source": [
        "conn = sqlite3.connect(\"titanic.db\")\n",
        "query = \"\"\"\n",
        "SELECT CASE\n",
        "         WHEN Age < 18 THEN 'Child'\n",
        "         WHEN Age BETWEEN 18 AND 50 THEN 'Adult'\n",
        "         ELSE 'Senior'\n",
        "       END AS AgeGroup,\n",
        "       AVG(Survived) AS survival_rate\n",
        "FROM passengers\n",
        "GROUP BY AgeGroup;\n",
        "\"\"\"\n",
        "result = pd.read_sql(query, conn)\n",
        "print(result)\n",
        "conn.close()"
      ],
      "metadata": {
        "colab": {
          "base_uri": "https://localhost:8080/"
        },
        "id": "XzHuS8IT6SmF",
        "outputId": "594f835c-1cbc-4ae3-b404-0bdc5264f8ee"
      },
      "execution_count": 65,
      "outputs": [
        {
          "output_type": "stream",
          "name": "stdout",
          "text": [
            "  AgeGroup  survival_rate\n",
            "0    Adult       0.362745\n",
            "1    Child       0.539823\n",
            "2   Senior       0.343750\n"
          ]
        }
      ]
    },
    {
      "cell_type": "markdown",
      "source": [
        "Correlation between fare and survival (basic)."
      ],
      "metadata": {
        "id": "yD6SLZ1K6hyk"
      }
    },
    {
      "cell_type": "code",
      "source": [
        "conn = sqlite3.connect(\"titanic.db\")\n",
        "query = \"\"\"\n",
        "SELECT CASE WHEN Fare > 50 THEN 'High Fare' ELSE 'Low Fare' END AS FareGroup,\n",
        "       AVG(Survived) AS survival_rate\n",
        "FROM passengers\n",
        "GROUP BY FareGroup;\n",
        "\"\"\"\n",
        "result = pd.read_sql(query, conn)\n",
        "print(result)\n",
        "conn.close()"
      ],
      "metadata": {
        "colab": {
          "base_uri": "https://localhost:8080/"
        },
        "id": "Pksvz5wG6fTY",
        "outputId": "e70f0dac-2780-4cbb-ce7b-faf89a2246da"
      },
      "execution_count": 66,
      "outputs": [
        {
          "output_type": "stream",
          "name": "stdout",
          "text": [
            "   FareGroup  survival_rate\n",
            "0  High Fare       0.681250\n",
            "1   Low Fare       0.318741\n"
          ]
        }
      ]
    },
    {
      "cell_type": "code",
      "source": [
        "import os\n",
        "print(os.listdir())"
      ],
      "metadata": {
        "colab": {
          "base_uri": "https://localhost:8080/"
        },
        "id": "UMKlRebwHg3D",
        "outputId": "77fec302-144a-4dcf-da34-172975bf7084"
      },
      "execution_count": 67,
      "outputs": [
        {
          "output_type": "stream",
          "name": "stdout",
          "text": [
            "['.config', 'titanic.db', 'data', 'drive', 'sample_data']\n"
          ]
        }
      ]
    },
    {
      "cell_type": "code",
      "source": [
        "#!/usr/bin/env python3\n",
        "\"\"\"\n",
        "etl_pipeline.py\n",
        "\n",
        "Run: python etl_pipeline.py --input ../data/raw/train.csv --db_path ../data/processed/titanic.db\n",
        "\n",
        "This script:\n",
        " - Extracts raw CSV\n",
        " - Transforms (clean + feature engineering)\n",
        " - Loads processed table into SQLite DB\n",
        " - Logs steps and handles errors\n",
        "\"\"\"\n",
        "\n",
        "import argparse\n",
        "import logging\n",
        "import os\n",
        "import sqlite3\n",
        "import sys\n",
        "from pathlib import Path\n",
        "\n",
        "import pandas as pd\n",
        "\n",
        "# -------------------------\n",
        "# Logging setup\n",
        "# -------------------------\n",
        "LOG_DIR = Path(\"../logs\")\n",
        "LOG_DIR.mkdir(parents=True, exist_ok=True)\n",
        "logging.basicConfig(\n",
        "    level=logging.INFO,\n",
        "    format=\"%(asctime)s %(levelname)s %(message)s\",\n",
        "    handlers=[\n",
        "        logging.StreamHandler(sys.stdout),\n",
        "        logging.FileHandler(LOG_DIR / \"etl_pipeline.log\"),\n",
        "    ],\n",
        ")\n",
        "logger = logging.getLogger(__name__)\n"
      ],
      "metadata": {
        "id": "885U6v8hKjmj"
      },
      "execution_count": 68,
      "outputs": []
    },
    {
      "cell_type": "code",
      "source": [
        "# -------------------------\n",
        "# Extract\n",
        "# -------------------------\n",
        "def extract(input_csv: str) -> pd.DataFrame:\n",
        "    \"\"\"Read CSV into pandas DataFrame.\"\"\"\n",
        "    try:\n",
        "        logger.info(\"Starting extraction from: %s\", input_csv)\n",
        "        df = pd.read_csv(input_csv)\n",
        "        logger.info(\"Extracted %d rows, %d columns\", df.shape[0], df.shape[1])\n",
        "        return df\n",
        "    except FileNotFoundError:\n",
        "        logger.exception(\"Input CSV not found: %s\", input_csv)\n",
        "        raise\n",
        "    except Exception:\n",
        "        logger.exception(\"Failed to extract data from %s\", input_csv)\n",
        "        raise\n"
      ],
      "metadata": {
        "id": "jD0yuzq0KogV"
      },
      "execution_count": 10,
      "outputs": []
    },
    {
      "cell_type": "code",
      "source": [
        "# =========================\n",
        "# 1. EXTRACT\n",
        "# =========================\n",
        "def extract(file_path):\n",
        "    print(\"📥 Extracting data...\")\n",
        "    df = pd.read_csv(file_path)\n",
        "    print(f\"✅ Data extracted: {df.shape[0]} rows, {df.shape[1]} columns\")\n",
        "    return df\n"
      ],
      "metadata": {
        "id": "nQXr49NvK8Yq"
      },
      "execution_count": 11,
      "outputs": []
    },
    {
      "cell_type": "code",
      "source": [
        "# =========================\n",
        "# 2. TRANSFORM\n",
        "# =========================\n",
        "def transform(df):\n",
        "    print(\"🔄 Transforming data...\")\n",
        "\n",
        "    # Handle missing values\n",
        "    df['Age'].fillna(df['Age'].median(), inplace=True)\n",
        "    df['Embarked'].fillna(df['Embarked'].mode()[0], inplace=True)\n",
        "    df.drop(columns=['Cabin'], inplace=True)\n",
        "\n",
        "    # Encode categorical variables\n",
        "    df['Sex'] = df['Sex'].map({'male': 0, 'female': 1})\n",
        "    df = pd.get_dummies(df, columns=['Embarked'], drop_first=True)\n",
        "\n",
        "    # Feature engineering\n",
        "    df['FamilySize'] = df['SibSp'] + df['Parch'] + 1\n",
        "    df['IsAlone'] = (df['FamilySize'] == 1).astype(int)\n",
        "\n",
        "    print(\"✅ Transformation complete.\")\n",
        "    return df"
      ],
      "metadata": {
        "id": "A_qj1Skr8-W3"
      },
      "execution_count": 12,
      "outputs": []
    },
    {
      "cell_type": "code",
      "source": [
        "# =========================\n",
        "# 3. LOAD\n",
        "# =========================\n",
        "def load(df, csv_path, db_path):\n",
        "    print(\"💾 Loading data...\")\n",
        "\n",
        "    # Save to processed folder\n",
        "    os.makedirs(os.path.dirname(csv_path), exist_ok=True)\n",
        "    df.to_csv(csv_path, index=False)\n",
        "    print(f\"✅ Cleaned dataset saved at: {csv_path}\")\n",
        "\n",
        "    # Save to SQLite database\n",
        "    conn = sqlite3.connect(db_path)\n",
        "    df.to_sql(\"titanic_clean\", conn, if_exists=\"replace\", index=False)\n",
        "    conn.close()\n",
        "    print(f\"✅ Data loaded into database: {db_path}\")\n"
      ],
      "metadata": {
        "id": "81xAS-Ih9Dtp"
      },
      "execution_count": 13,
      "outputs": []
    },
    {
      "cell_type": "code",
      "source": [
        "# =========================\n",
        "# MAIN PIPELINE\n",
        "# =========================\n",
        "if __name__ == \"__main__\":\n",
        "    raw_file = \"/content/drive/MyDrive/Titanic-Dataset.csv\"\n",
        "    processed_file = \"data/processed/titanic_clean.csv\"\n",
        "    database_file = \"titanic.db\"\n",
        "\n",
        "    # Run pipeline\n",
        "    df_raw = extract(raw_file)\n",
        "    df_clean = transform(df_raw)\n",
        "    load(df_clean, processed_file, database_file)\n",
        "\n",
        "    print(\"🎉 ETL Pipeline completed successfully!\")"
      ],
      "metadata": {
        "colab": {
          "base_uri": "https://localhost:8080/"
        },
        "id": "fHejLLNo9Hs2",
        "outputId": "102e50f1-04b5-4bdf-8252-b8a29cf63fc3"
      },
      "execution_count": 14,
      "outputs": [
        {
          "output_type": "stream",
          "name": "stdout",
          "text": [
            "📥 Extracting data...\n",
            "✅ Data extracted: 891 rows, 12 columns\n",
            "🔄 Transforming data...\n",
            "✅ Transformation complete.\n",
            "💾 Loading data...\n",
            "✅ Cleaned dataset saved at: data/processed/titanic_clean.csv\n",
            "✅ Data loaded into database: titanic.db\n",
            "🎉 ETL Pipeline completed successfully!\n"
          ]
        },
        {
          "output_type": "stream",
          "name": "stderr",
          "text": [
            "/tmp/ipython-input-3027099650.py:8: FutureWarning: A value is trying to be set on a copy of a DataFrame or Series through chained assignment using an inplace method.\n",
            "The behavior will change in pandas 3.0. This inplace method will never work because the intermediate object on which we are setting values always behaves as a copy.\n",
            "\n",
            "For example, when doing 'df[col].method(value, inplace=True)', try using 'df.method({col: value}, inplace=True)' or df[col] = df[col].method(value) instead, to perform the operation inplace on the original object.\n",
            "\n",
            "\n",
            "  df['Age'].fillna(df['Age'].median(), inplace=True)\n",
            "/tmp/ipython-input-3027099650.py:9: FutureWarning: A value is trying to be set on a copy of a DataFrame or Series through chained assignment using an inplace method.\n",
            "The behavior will change in pandas 3.0. This inplace method will never work because the intermediate object on which we are setting values always behaves as a copy.\n",
            "\n",
            "For example, when doing 'df[col].method(value, inplace=True)', try using 'df.method({col: value}, inplace=True)' or df[col] = df[col].method(value) instead, to perform the operation inplace on the original object.\n",
            "\n",
            "\n",
            "  df['Embarked'].fillna(df['Embarked'].mode()[0], inplace=True)\n"
          ]
        }
      ]
    },
    {
      "cell_type": "code",
      "source": [
        "pip install prefect"
      ],
      "metadata": {
        "colab": {
          "base_uri": "https://localhost:8080/"
        },
        "id": "eHj5B79V-b6N",
        "outputId": "62a0d158-619e-4fb9-ca25-a0d2d31b62f3"
      },
      "execution_count": 15,
      "outputs": [
        {
          "output_type": "stream",
          "name": "stdout",
          "text": [
            "Collecting prefect\n",
            "  Downloading prefect-3.4.19-py3-none-any.whl.metadata (13 kB)\n",
            "Collecting aiosqlite<1.0.0,>=0.17.0 (from prefect)\n",
            "  Downloading aiosqlite-0.21.0-py3-none-any.whl.metadata (4.3 kB)\n",
            "Requirement already satisfied: alembic<2.0.0,>=1.7.5 in /usr/local/lib/python3.12/dist-packages (from prefect) (1.16.5)\n",
            "Requirement already satisfied: anyio<5.0.0,>=4.4.0 in /usr/local/lib/python3.12/dist-packages (from prefect) (4.10.0)\n",
            "Collecting apprise<2.0.0,>=1.1.0 (from prefect)\n",
            "  Downloading apprise-1.9.4-py3-none-any.whl.metadata (55 kB)\n",
            "\u001b[2K     \u001b[90m━━━━━━━━━━━━━━━━━━━━━━━━━━━━━━━━━━━━━━━━\u001b[0m \u001b[32m55.8/55.8 kB\u001b[0m \u001b[31m1.5 MB/s\u001b[0m eta \u001b[36m0:00:00\u001b[0m\n",
            "\u001b[?25hCollecting asgi-lifespan<3.0,>=1.0 (from prefect)\n",
            "  Downloading asgi_lifespan-2.1.0-py3-none-any.whl.metadata (10 kB)\n",
            "Collecting asyncpg<1.0.0,>=0.23 (from prefect)\n",
            "  Downloading asyncpg-0.30.0-cp312-cp312-manylinux_2_17_x86_64.manylinux2014_x86_64.whl.metadata (5.0 kB)\n",
            "Requirement already satisfied: cachetools<7.0,>=5.3 in /usr/local/lib/python3.12/dist-packages (from prefect) (5.5.2)\n",
            "Requirement already satisfied: click<9,>=8.0 in /usr/local/lib/python3.12/dist-packages (from prefect) (8.2.1)\n",
            "Requirement already satisfied: cloudpickle<4.0,>=2.0 in /usr/local/lib/python3.12/dist-packages (from prefect) (3.1.1)\n",
            "Collecting coolname<3.0.0,>=1.0.4 (from prefect)\n",
            "  Downloading coolname-2.2.0-py2.py3-none-any.whl.metadata (6.2 kB)\n",
            "Requirement already satisfied: cryptography>=36.0.1 in /usr/local/lib/python3.12/dist-packages (from prefect) (43.0.3)\n",
            "Collecting dateparser<2.0.0,>=1.1.1 (from prefect)\n",
            "  Downloading dateparser-1.2.2-py3-none-any.whl.metadata (29 kB)\n",
            "Collecting docker<8.0,>=4.0 (from prefect)\n",
            "  Downloading docker-7.1.0-py3-none-any.whl.metadata (3.8 kB)\n",
            "Collecting exceptiongroup>=1.0.0 (from prefect)\n",
            "  Downloading exceptiongroup-1.3.0-py3-none-any.whl.metadata (6.7 kB)\n",
            "Requirement already satisfied: fastapi<1.0.0,>=0.111.0 in /usr/local/lib/python3.12/dist-packages (from prefect) (0.116.1)\n",
            "Requirement already satisfied: fsspec>=2022.5.0 in /usr/local/lib/python3.12/dist-packages (from prefect) (2025.3.0)\n",
            "Requirement already satisfied: graphviz>=0.20.1 in /usr/local/lib/python3.12/dist-packages (from prefect) (0.21)\n",
            "Collecting griffe<2.0.0,>=0.49.0 (from prefect)\n",
            "  Downloading griffe-1.14.0-py3-none-any.whl.metadata (5.1 kB)\n",
            "Requirement already satisfied: httpcore<2.0.0,>=1.0.5 in /usr/local/lib/python3.12/dist-packages (from prefect) (1.0.9)\n",
            "Requirement already satisfied: httpx!=0.23.2,>=0.23 in /usr/local/lib/python3.12/dist-packages (from httpx[http2]!=0.23.2,>=0.23->prefect) (0.28.1)\n",
            "Requirement already satisfied: humanize<5.0.0,>=4.9.0 in /usr/local/lib/python3.12/dist-packages (from prefect) (4.13.0)\n",
            "Collecting jinja2-humanize-extension>=0.4.0 (from prefect)\n",
            "  Downloading jinja2_humanize_extension-0.4.0-py3-none-any.whl.metadata (3.6 kB)\n",
            "Requirement already satisfied: jinja2<4.0.0,>=3.1.6 in /usr/local/lib/python3.12/dist-packages (from prefect) (3.1.6)\n",
            "Requirement already satisfied: jsonpatch<2.0,>=1.32 in /usr/local/lib/python3.12/dist-packages (from prefect) (1.33)\n",
            "Requirement already satisfied: jsonschema<5.0.0,>=4.18.0 in /usr/local/lib/python3.12/dist-packages (from prefect) (4.25.1)\n",
            "Requirement already satisfied: opentelemetry-api<2.0.0,>=1.27.0 in /usr/local/lib/python3.12/dist-packages (from prefect) (1.36.0)\n",
            "Requirement already satisfied: orjson<4.0,>=3.7 in /usr/local/lib/python3.12/dist-packages (from prefect) (3.11.3)\n",
            "Requirement already satisfied: packaging<25.1,>=21.3 in /usr/local/lib/python3.12/dist-packages (from prefect) (25.0)\n",
            "Collecting pathspec>=0.8.0 (from prefect)\n",
            "  Downloading pathspec-0.12.1-py3-none-any.whl.metadata (21 kB)\n",
            "Collecting pendulum<4,>=3.0.0 (from prefect)\n",
            "  Downloading pendulum-3.1.0-cp312-cp312-manylinux_2_17_x86_64.manylinux2014_x86_64.whl.metadata (6.8 kB)\n",
            "Requirement already satisfied: prometheus-client>=0.20.0 in /usr/local/lib/python3.12/dist-packages (from prefect) (0.22.1)\n",
            "Requirement already satisfied: pydantic!=2.11.0,!=2.11.1,!=2.11.2,!=2.11.3,!=2.11.4,<3.0.0,>=2.10.1 in /usr/local/lib/python3.12/dist-packages (from prefect) (2.11.7)\n",
            "Requirement already satisfied: pydantic-core<3.0.0,>=2.12.0 in /usr/local/lib/python3.12/dist-packages (from prefect) (2.33.2)\n",
            "Collecting pydantic-extra-types<3.0.0,>=2.8.2 (from prefect)\n",
            "  Downloading pydantic_extra_types-2.10.5-py3-none-any.whl.metadata (3.9 kB)\n",
            "Requirement already satisfied: pydantic-settings!=2.9.0,<3.0.0,>2.2.1 in /usr/local/lib/python3.12/dist-packages (from prefect) (2.10.1)\n",
            "Requirement already satisfied: python-dateutil<3.0.0,>=2.8.2 in /usr/local/lib/python3.12/dist-packages (from prefect) (2.9.0.post0)\n",
            "Requirement already satisfied: python-slugify<9.0,>=5.0 in /usr/local/lib/python3.12/dist-packages (from prefect) (8.0.4)\n",
            "Collecting python-socks<3.0,>=2.5.3 (from python-socks[asyncio]<3.0,>=2.5.3->prefect)\n",
            "  Downloading python_socks-2.7.2-py3-none-any.whl.metadata (8.0 kB)\n",
            "Requirement already satisfied: pytz<2026,>=2021.1 in /usr/local/lib/python3.12/dist-packages (from prefect) (2025.2)\n",
            "Requirement already satisfied: pyyaml<7.0.0,>=5.4.1 in /usr/local/lib/python3.12/dist-packages (from prefect) (6.0.2)\n",
            "Collecting readchar<5.0.0,>=4.0.0 (from prefect)\n",
            "  Downloading readchar-4.2.1-py3-none-any.whl.metadata (7.5 kB)\n",
            "Requirement already satisfied: rfc3339-validator<0.2.0,>=0.1.4 in /usr/local/lib/python3.12/dist-packages (from prefect) (0.1.4)\n",
            "Requirement already satisfied: rich<15.0,>=11.0 in /usr/local/lib/python3.12/dist-packages (from prefect) (13.9.4)\n",
            "Collecting ruamel-yaml>=0.17.0 (from prefect)\n",
            "  Downloading ruamel.yaml-0.18.15-py3-none-any.whl.metadata (25 kB)\n",
            "Collecting semver>=3.0.4 (from prefect)\n",
            "  Downloading semver-3.0.4-py3-none-any.whl.metadata (6.8 kB)\n",
            "Requirement already satisfied: sniffio<2.0.0,>=1.3.0 in /usr/local/lib/python3.12/dist-packages (from prefect) (1.3.1)\n",
            "Requirement already satisfied: sqlalchemy<3.0.0,>=2.0 in /usr/local/lib/python3.12/dist-packages (from sqlalchemy[asyncio]<3.0.0,>=2.0->prefect) (2.0.43)\n",
            "Requirement already satisfied: toml>=0.10.0 in /usr/local/lib/python3.12/dist-packages (from prefect) (0.10.2)\n",
            "Requirement already satisfied: typer!=0.12.2,<0.18.0,>=0.12.0 in /usr/local/lib/python3.12/dist-packages (from prefect) (0.17.4)\n",
            "Requirement already satisfied: typing-extensions<5.0.0,>=4.10.0 in /usr/local/lib/python3.12/dist-packages (from prefect) (4.15.0)\n",
            "Collecting uv>=0.6.0 (from prefect)\n",
            "  Downloading uv-0.8.19-py3-none-manylinux_2_17_x86_64.manylinux2014_x86_64.whl.metadata (11 kB)\n",
            "Requirement already satisfied: uvicorn!=0.29.0,>=0.14.0 in /usr/local/lib/python3.12/dist-packages (from prefect) (0.35.0)\n",
            "Requirement already satisfied: websockets<16.0,>=13.0 in /usr/local/lib/python3.12/dist-packages (from prefect) (15.0.1)\n",
            "Requirement already satisfied: Mako in /usr/local/lib/python3.12/dist-packages (from alembic<2.0.0,>=1.7.5->prefect) (1.3.10)\n",
            "Requirement already satisfied: idna>=2.8 in /usr/local/lib/python3.12/dist-packages (from anyio<5.0.0,>=4.4.0->prefect) (3.10)\n",
            "Requirement already satisfied: requests in /usr/local/lib/python3.12/dist-packages (from apprise<2.0.0,>=1.1.0->prefect) (2.32.4)\n",
            "Requirement already satisfied: requests-oauthlib in /usr/local/lib/python3.12/dist-packages (from apprise<2.0.0,>=1.1.0->prefect) (2.0.0)\n",
            "Requirement already satisfied: markdown in /usr/local/lib/python3.12/dist-packages (from apprise<2.0.0,>=1.1.0->prefect) (3.9)\n",
            "Requirement already satisfied: certifi in /usr/local/lib/python3.12/dist-packages (from apprise<2.0.0,>=1.1.0->prefect) (2025.8.3)\n",
            "Requirement already satisfied: cffi>=1.12 in /usr/local/lib/python3.12/dist-packages (from cryptography>=36.0.1->prefect) (2.0.0)\n",
            "Requirement already satisfied: regex>=2024.9.11 in /usr/local/lib/python3.12/dist-packages (from dateparser<2.0.0,>=1.1.1->prefect) (2024.11.6)\n",
            "Requirement already satisfied: tzlocal>=0.2 in /usr/local/lib/python3.12/dist-packages (from dateparser<2.0.0,>=1.1.1->prefect) (5.3.1)\n",
            "Requirement already satisfied: urllib3>=1.26.0 in /usr/local/lib/python3.12/dist-packages (from docker<8.0,>=4.0->prefect) (2.5.0)\n",
            "Requirement already satisfied: starlette<0.48.0,>=0.40.0 in /usr/local/lib/python3.12/dist-packages (from fastapi<1.0.0,>=0.111.0->prefect) (0.47.3)\n",
            "Collecting colorama>=0.4 (from griffe<2.0.0,>=0.49.0->prefect)\n",
            "  Downloading colorama-0.4.6-py2.py3-none-any.whl.metadata (17 kB)\n",
            "Requirement already satisfied: h11>=0.16 in /usr/local/lib/python3.12/dist-packages (from httpcore<2.0.0,>=1.0.5->prefect) (0.16.0)\n",
            "Requirement already satisfied: h2<5,>=3 in /usr/local/lib/python3.12/dist-packages (from httpx[http2]!=0.23.2,>=0.23->prefect) (4.3.0)\n",
            "Requirement already satisfied: MarkupSafe>=2.0 in /usr/local/lib/python3.12/dist-packages (from jinja2<4.0.0,>=3.1.6->prefect) (3.0.2)\n",
            "Requirement already satisfied: jsonpointer>=1.9 in /usr/local/lib/python3.12/dist-packages (from jsonpatch<2.0,>=1.32->prefect) (3.0.0)\n",
            "Requirement already satisfied: attrs>=22.2.0 in /usr/local/lib/python3.12/dist-packages (from jsonschema<5.0.0,>=4.18.0->prefect) (25.3.0)\n",
            "Requirement already satisfied: jsonschema-specifications>=2023.03.6 in /usr/local/lib/python3.12/dist-packages (from jsonschema<5.0.0,>=4.18.0->prefect) (2025.9.1)\n",
            "Requirement already satisfied: referencing>=0.28.4 in /usr/local/lib/python3.12/dist-packages (from jsonschema<5.0.0,>=4.18.0->prefect) (0.36.2)\n",
            "Requirement already satisfied: rpds-py>=0.7.1 in /usr/local/lib/python3.12/dist-packages (from jsonschema<5.0.0,>=4.18.0->prefect) (0.27.1)\n",
            "Requirement already satisfied: importlib-metadata<8.8.0,>=6.0 in /usr/local/lib/python3.12/dist-packages (from opentelemetry-api<2.0.0,>=1.27.0->prefect) (8.7.0)\n",
            "Requirement already satisfied: tzdata>=2020.1 in /usr/local/lib/python3.12/dist-packages (from pendulum<4,>=3.0.0->prefect) (2025.2)\n",
            "Requirement already satisfied: annotated-types>=0.6.0 in /usr/local/lib/python3.12/dist-packages (from pydantic!=2.11.0,!=2.11.1,!=2.11.2,!=2.11.3,!=2.11.4,<3.0.0,>=2.10.1->prefect) (0.7.0)\n",
            "Requirement already satisfied: typing-inspection>=0.4.0 in /usr/local/lib/python3.12/dist-packages (from pydantic!=2.11.0,!=2.11.1,!=2.11.2,!=2.11.3,!=2.11.4,<3.0.0,>=2.10.1->prefect) (0.4.1)\n",
            "Requirement already satisfied: python-dotenv>=0.21.0 in /usr/local/lib/python3.12/dist-packages (from pydantic-settings!=2.9.0,<3.0.0,>2.2.1->prefect) (1.1.1)\n",
            "Requirement already satisfied: six>=1.5 in /usr/local/lib/python3.12/dist-packages (from python-dateutil<3.0.0,>=2.8.2->prefect) (1.17.0)\n",
            "Requirement already satisfied: text-unidecode>=1.3 in /usr/local/lib/python3.12/dist-packages (from python-slugify<9.0,>=5.0->prefect) (1.3)\n",
            "Requirement already satisfied: markdown-it-py>=2.2.0 in /usr/local/lib/python3.12/dist-packages (from rich<15.0,>=11.0->prefect) (4.0.0)\n",
            "Requirement already satisfied: pygments<3.0.0,>=2.13.0 in /usr/local/lib/python3.12/dist-packages (from rich<15.0,>=11.0->prefect) (2.19.2)\n",
            "Collecting ruamel.yaml.clib>=0.2.7 (from ruamel-yaml>=0.17.0->prefect)\n",
            "  Downloading ruamel.yaml.clib-0.2.12-cp312-cp312-manylinux_2_17_x86_64.manylinux2014_x86_64.whl.metadata (2.7 kB)\n",
            "Requirement already satisfied: greenlet>=1 in /usr/local/lib/python3.12/dist-packages (from sqlalchemy<3.0.0,>=2.0->sqlalchemy[asyncio]<3.0.0,>=2.0->prefect) (3.2.4)\n",
            "Requirement already satisfied: shellingham>=1.3.0 in /usr/local/lib/python3.12/dist-packages (from typer!=0.12.2,<0.18.0,>=0.12.0->prefect) (1.5.4)\n",
            "Requirement already satisfied: pycparser in /usr/local/lib/python3.12/dist-packages (from cffi>=1.12->cryptography>=36.0.1->prefect) (2.23)\n",
            "Requirement already satisfied: hyperframe<7,>=6.1 in /usr/local/lib/python3.12/dist-packages (from h2<5,>=3->httpx[http2]!=0.23.2,>=0.23->prefect) (6.1.0)\n",
            "Requirement already satisfied: hpack<5,>=4.1 in /usr/local/lib/python3.12/dist-packages (from h2<5,>=3->httpx[http2]!=0.23.2,>=0.23->prefect) (4.1.0)\n",
            "Requirement already satisfied: zipp>=3.20 in /usr/local/lib/python3.12/dist-packages (from importlib-metadata<8.8.0,>=6.0->opentelemetry-api<2.0.0,>=1.27.0->prefect) (3.23.0)\n",
            "Requirement already satisfied: mdurl~=0.1 in /usr/local/lib/python3.12/dist-packages (from markdown-it-py>=2.2.0->rich<15.0,>=11.0->prefect) (0.1.2)\n",
            "Requirement already satisfied: charset_normalizer<4,>=2 in /usr/local/lib/python3.12/dist-packages (from requests->apprise<2.0.0,>=1.1.0->prefect) (3.4.3)\n",
            "Requirement already satisfied: oauthlib>=3.0.0 in /usr/local/lib/python3.12/dist-packages (from requests-oauthlib->apprise<2.0.0,>=1.1.0->prefect) (3.3.1)\n",
            "Downloading prefect-3.4.19-py3-none-any.whl (6.1 MB)\n",
            "\u001b[2K   \u001b[90m━━━━━━━━━━━━━━━━━━━━━━━━━━━━━━━━━━━━━━━━\u001b[0m \u001b[32m6.1/6.1 MB\u001b[0m \u001b[31m32.3 MB/s\u001b[0m eta \u001b[36m0:00:00\u001b[0m\n",
            "\u001b[?25hDownloading aiosqlite-0.21.0-py3-none-any.whl (15 kB)\n",
            "Downloading apprise-1.9.4-py3-none-any.whl (1.4 MB)\n",
            "\u001b[2K   \u001b[90m━━━━━━━━━━━━━━━━━━━━━━━━━━━━━━━━━━━━━━━━\u001b[0m \u001b[32m1.4/1.4 MB\u001b[0m \u001b[31m37.9 MB/s\u001b[0m eta \u001b[36m0:00:00\u001b[0m\n",
            "\u001b[?25hDownloading asgi_lifespan-2.1.0-py3-none-any.whl (10 kB)\n",
            "Downloading asyncpg-0.30.0-cp312-cp312-manylinux_2_17_x86_64.manylinux2014_x86_64.whl (3.6 MB)\n",
            "\u001b[2K   \u001b[90m━━━━━━━━━━━━━━━━━━━━━━━━━━━━━━━━━━━━━━━━\u001b[0m \u001b[32m3.6/3.6 MB\u001b[0m \u001b[31m42.3 MB/s\u001b[0m eta \u001b[36m0:00:00\u001b[0m\n",
            "\u001b[?25hDownloading coolname-2.2.0-py2.py3-none-any.whl (37 kB)\n",
            "Downloading dateparser-1.2.2-py3-none-any.whl (315 kB)\n",
            "\u001b[2K   \u001b[90m━━━━━━━━━━━━━━━━━━━━━━━━━━━━━━━━━━━━━━━━\u001b[0m \u001b[32m315.5/315.5 kB\u001b[0m \u001b[31m18.0 MB/s\u001b[0m eta \u001b[36m0:00:00\u001b[0m\n",
            "\u001b[?25hDownloading docker-7.1.0-py3-none-any.whl (147 kB)\n",
            "\u001b[2K   \u001b[90m━━━━━━━━━━━━━━━━━━━━━━━━━━━━━━━━━━━━━━━━\u001b[0m \u001b[32m147.8/147.8 kB\u001b[0m \u001b[31m9.3 MB/s\u001b[0m eta \u001b[36m0:00:00\u001b[0m\n",
            "\u001b[?25hDownloading exceptiongroup-1.3.0-py3-none-any.whl (16 kB)\n",
            "Downloading griffe-1.14.0-py3-none-any.whl (144 kB)\n",
            "\u001b[2K   \u001b[90m━━━━━━━━━━━━━━━━━━━━━━━━━━━━━━━━━━━━━━━━\u001b[0m \u001b[32m144.4/144.4 kB\u001b[0m \u001b[31m10.3 MB/s\u001b[0m eta \u001b[36m0:00:00\u001b[0m\n",
            "\u001b[?25hDownloading jinja2_humanize_extension-0.4.0-py3-none-any.whl (4.8 kB)\n",
            "Downloading pathspec-0.12.1-py3-none-any.whl (31 kB)\n",
            "Downloading pendulum-3.1.0-cp312-cp312-manylinux_2_17_x86_64.manylinux2014_x86_64.whl (351 kB)\n",
            "\u001b[2K   \u001b[90m━━━━━━━━━━━━━━━━━━━━━━━━━━━━━━━━━━━━━━━━\u001b[0m \u001b[32m351.2/351.2 kB\u001b[0m \u001b[31m21.2 MB/s\u001b[0m eta \u001b[36m0:00:00\u001b[0m\n",
            "\u001b[?25hDownloading pydantic_extra_types-2.10.5-py3-none-any.whl (38 kB)\n",
            "Downloading python_socks-2.7.2-py3-none-any.whl (55 kB)\n",
            "\u001b[2K   \u001b[90m━━━━━━━━━━━━━━━━━━━━━━━━━━━━━━━━━━━━━━━━\u001b[0m \u001b[32m55.0/55.0 kB\u001b[0m \u001b[31m3.9 MB/s\u001b[0m eta \u001b[36m0:00:00\u001b[0m\n",
            "\u001b[?25hDownloading readchar-4.2.1-py3-none-any.whl (9.3 kB)\n",
            "Downloading ruamel.yaml-0.18.15-py3-none-any.whl (119 kB)\n",
            "\u001b[2K   \u001b[90m━━━━━━━━━━━━━━━━━━━━━━━━━━━━━━━━━━━━━━━━\u001b[0m \u001b[32m119.7/119.7 kB\u001b[0m \u001b[31m5.5 MB/s\u001b[0m eta \u001b[36m0:00:00\u001b[0m\n",
            "\u001b[?25hDownloading semver-3.0.4-py3-none-any.whl (17 kB)\n",
            "Downloading uv-0.8.19-py3-none-manylinux_2_17_x86_64.manylinux2014_x86_64.whl (20.9 MB)\n",
            "\u001b[2K   \u001b[90m━━━━━━━━━━━━━━━━━━━━━━━━━━━━━━━━━━━━━━━━\u001b[0m \u001b[32m20.9/20.9 MB\u001b[0m \u001b[31m38.9 MB/s\u001b[0m eta \u001b[36m0:00:00\u001b[0m\n",
            "\u001b[?25hDownloading colorama-0.4.6-py2.py3-none-any.whl (25 kB)\n",
            "Downloading ruamel.yaml.clib-0.2.12-cp312-cp312-manylinux_2_17_x86_64.manylinux2014_x86_64.whl (754 kB)\n",
            "\u001b[2K   \u001b[90m━━━━━━━━━━━━━━━━━━━━━━━━━━━━━━━━━━━━━━━━\u001b[0m \u001b[32m754.1/754.1 kB\u001b[0m \u001b[31m26.3 MB/s\u001b[0m eta \u001b[36m0:00:00\u001b[0m\n",
            "\u001b[?25hInstalling collected packages: coolname, uv, semver, ruamel.yaml.clib, readchar, python-socks, pathspec, exceptiongroup, colorama, asyncpg, asgi-lifespan, aiosqlite, ruamel-yaml, pendulum, jinja2-humanize-extension, griffe, docker, dateparser, pydantic-extra-types, apprise, prefect\n",
            "Successfully installed aiosqlite-0.21.0 apprise-1.9.4 asgi-lifespan-2.1.0 asyncpg-0.30.0 colorama-0.4.6 coolname-2.2.0 dateparser-1.2.2 docker-7.1.0 exceptiongroup-1.3.0 griffe-1.14.0 jinja2-humanize-extension-0.4.0 pathspec-0.12.1 pendulum-3.1.0 prefect-3.4.19 pydantic-extra-types-2.10.5 python-socks-2.7.2 readchar-4.2.1 ruamel-yaml-0.18.15 ruamel.yaml.clib-0.2.12 semver-3.0.4 uv-0.8.19\n"
          ]
        }
      ]
    },
    {
      "cell_type": "code",
      "source": [
        "from prefect import flow, task\n",
        "import pandas as pd\n",
        "import sqlite3\n",
        "import os\n",
        "\n",
        "@task\n",
        "def extract(file_path):\n",
        "    return pd.read_csv(file_path)\n"
      ],
      "metadata": {
        "id": "VZLsiYrs-nSG"
      },
      "execution_count": 16,
      "outputs": []
    },
    {
      "cell_type": "code",
      "source": [
        "@task\n",
        "def transform(df):\n",
        "    df['Age'].fillna(df['Age'].median(), inplace=True)\n",
        "    df['Embarked'].fillna(df['Embarked'].mode()[0], inplace=True)\n",
        "    df.drop(columns=['Cabin'], inplace=True)\n",
        "    df['Sex'] = df['Sex'].map({'male': 0, 'female': 1})\n",
        "    df = pd.get_dummies(df, columns=['Embarked'], drop_first=True)\n",
        "    df['FamilySize'] = df['SibSp'] + df['Parch'] + 1\n",
        "    df['IsAlone'] = (df['FamilySize'] == 1).astype(int)\n",
        "    return df\n"
      ],
      "metadata": {
        "id": "LAFyuyoc-st3"
      },
      "execution_count": 17,
      "outputs": []
    },
    {
      "cell_type": "code",
      "source": [
        "@task\n",
        "def load(df, csv_path, db_path):\n",
        "    os.makedirs(os.path.dirname(csv_path), exist_ok=True)\n",
        "    df.to_csv(csv_path, index=False)\n",
        "\n",
        "    conn = sqlite3.connect(db_path)\n",
        "    df.to_sql(\"titanic_clean\", conn, if_exists=\"replace\", index=False)\n",
        "    conn.close()"
      ],
      "metadata": {
        "id": "5SjJlnur-vLb"
      },
      "execution_count": 18,
      "outputs": []
    },
    {
      "cell_type": "code",
      "source": [
        "flow\n",
        "def etl_pipeline():\n",
        "    raw_file = \"/content/drive/MyDrive/Titanic-Dataset.csv\"\n",
        "    processed_file = \"/content/drive/MyDrive/titanic_project/data/processed/titanic_clean.csv\"\n",
        "    database_file = \"/content/drive/MyDrive/titanic_project/titanic.db\"\n",
        "\n",
        "    df_raw = extract(raw_file)\n",
        "    df_clean = transform(df_raw)\n",
        "    load(df_clean, processed_file, database_file)\n",
        "\n",
        "etl_pipeline()"
      ],
      "metadata": {
        "colab": {
          "base_uri": "https://localhost:8080/"
        },
        "id": "cXTP9TL7-0wX",
        "outputId": "40390124-8273-420a-a403-3e38e8a1e95d"
      },
      "execution_count": 69,
      "outputs": [
        {
          "output_type": "stream",
          "name": "stderr",
          "text": [
            "INFO:prefect:Starting temporary server on http://127.0.0.1:8066\n",
            "See https://docs.prefect.io/v3/concepts/server#how-to-guides for more information on running a dedicated Prefect server.\n",
            "INFO:prefect.task_runs:Finished in state Completed()\n",
            "/tmp/ipython-input-200151736.py:3: FutureWarning: A value is trying to be set on a copy of a DataFrame or Series through chained assignment using an inplace method.\n",
            "The behavior will change in pandas 3.0. This inplace method will never work because the intermediate object on which we are setting values always behaves as a copy.\n",
            "\n",
            "For example, when doing 'df[col].method(value, inplace=True)', try using 'df.method({col: value}, inplace=True)' or df[col] = df[col].method(value) instead, to perform the operation inplace on the original object.\n",
            "\n",
            "\n",
            "  df['Age'].fillna(df['Age'].median(), inplace=True)\n",
            "/tmp/ipython-input-200151736.py:4: FutureWarning: A value is trying to be set on a copy of a DataFrame or Series through chained assignment using an inplace method.\n",
            "The behavior will change in pandas 3.0. This inplace method will never work because the intermediate object on which we are setting values always behaves as a copy.\n",
            "\n",
            "For example, when doing 'df[col].method(value, inplace=True)', try using 'df.method({col: value}, inplace=True)' or df[col] = df[col].method(value) instead, to perform the operation inplace on the original object.\n",
            "\n",
            "\n",
            "  df['Embarked'].fillna(df['Embarked'].mode()[0], inplace=True)\n",
            "INFO:prefect.task_runs:Finished in state Completed()\n",
            "INFO:prefect.task_runs:Finished in state Completed()\n"
          ]
        }
      ]
    },
    {
      "cell_type": "code",
      "source": [
        "import joblib\n",
        "import os\n",
        "\n",
        "# Create the 'models' directory if it doesn't exist\n",
        "os.makedirs(\"models\", exist_ok=True)\n",
        "\n",
        "joblib.dump(rf, \"models/titanic_rf_model.pkl\")"
      ],
      "metadata": {
        "colab": {
          "base_uri": "https://localhost:8080/"
        },
        "id": "SeCajOO1qBfm",
        "outputId": "be60609b-e4cd-4e04-890b-f82fa64d09eb"
      },
      "execution_count": 73,
      "outputs": [
        {
          "output_type": "execute_result",
          "data": {
            "text/plain": [
              "['models/titanic_rf_model.pkl']"
            ]
          },
          "metadata": {},
          "execution_count": 73
        }
      ]
    },
    {
      "cell_type": "code",
      "source": [
        "from sklearn.model_selection import train_test_split\n",
        "\n",
        "# Assume df is your cleaned Titanic dataset\n",
        "# Features (X) = all columns except 'Survived'\n",
        "# Target (y) = 'Survived'\n",
        "X = df.drop(\"Survived\", axis=1)\n",
        "y = df[\"Survived\"]\n",
        "\n",
        "# Split dataset: 80% train, 20% test\n",
        "X_train, X_test, y_train, y_test = train_test_split(\n",
        "    X, y, test_size=0.2, random_state=42, stratify=y\n",
        ")\n",
        "\n",
        "print(\"Training set shape:\", X_train.shape)\n",
        "print(\"Test set shape:\", X_test.shape)"
      ],
      "metadata": {
        "colab": {
          "base_uri": "https://localhost:8080/"
        },
        "id": "fBFoQWnDqmnK",
        "outputId": "c9a12b58-8538-453e-a732-71e573cfd502"
      },
      "execution_count": 76,
      "outputs": [
        {
          "output_type": "stream",
          "name": "stdout",
          "text": [
            "Training set shape: (712, 18)\n",
            "Test set shape: (179, 18)\n"
          ]
        }
      ]
    },
    {
      "cell_type": "code",
      "metadata": {
        "colab": {
          "base_uri": "https://localhost:8080/"
        },
        "id": "d3dc1b7c",
        "outputId": "c63ec5ff-1934-4f4e-98d5-7c6978c00421"
      },
      "source": [
        "from sklearn.model_selection import train_test_split\n",
        "from sklearn.ensemble import RandomForestClassifier\n",
        "\n",
        "# Assuming 'Survived' is the target variable and the rest are features\n",
        "# We need to split the data into features (X) and target (y)\n",
        "# Using the processed data 'df_processed'\n",
        "# We also need to ensure the features are in a format that can be used by the model.\n",
        "# Since we have already created 'X_processed' using ColumnTransformer in a previous step, we can use that.\n",
        "# We also need the target variable 'y' from the original or processed dataframe.\n",
        "\n",
        "y = df_processed['Survived']\n",
        "# X_processed is already created using preprocessor.fit_transform(X)\n",
        "\n",
        "# Split data into training and testing sets\n",
        "X_train, X_test, y_train, y_test = train_test_split(X_processed, y, test_size=0.2, random_state=42)\n",
        "\n",
        "# Initialize and train the Random Forest Classifier\n",
        "rf = RandomForestClassifier(n_estimators=100, random_state=42)\n",
        "rf.fit(X_train, y_train)\n",
        "\n",
        "print(\"Random Forest model trained successfully!\")"
      ],
      "execution_count": 77,
      "outputs": [
        {
          "output_type": "stream",
          "name": "stdout",
          "text": [
            "Random Forest model trained successfully!\n"
          ]
        }
      ]
    },
    {
      "cell_type": "code",
      "source": [
        "from sklearn.linear_model import LogisticRegression\n",
        "from sklearn.metrics import accuracy_score, confusion_matrix, classification_report\n",
        "\n",
        "# Initialize model\n",
        "lr = LogisticRegression(max_iter=1000)\n",
        "\n",
        "# Train model on training data\n",
        "lr.fit(X_train, y_train)\n",
        "\n",
        "# Predict on test data\n",
        "y_pred = lr.predict(X_test)\n",
        "\n",
        "# Evaluate\n",
        "accuracy = accuracy_score(y_test, y_pred)\n",
        "print(\"Logistic Regression Accuracy:\", round(accuracy * 100, 2), \"%\")\n",
        "\n",
        "print(\"\\nConfusion Matrix:\\n\", confusion_matrix(y_test, y_pred))\n",
        "print(\"\\nClassification Report:\\n\", classification_report(y_test, y_pred))"
      ],
      "metadata": {
        "colab": {
          "base_uri": "https://localhost:8080/"
        },
        "id": "X3IYlRpYq1Lo",
        "outputId": "0e19766a-8ab7-4c97-b3a4-624c101f81d2"
      },
      "execution_count": 79,
      "outputs": [
        {
          "output_type": "stream",
          "name": "stdout",
          "text": [
            "Logistic Regression Accuracy: 82.12 %\n",
            "\n",
            "Confusion Matrix:\n",
            " [[89 16]\n",
            " [16 58]]\n",
            "\n",
            "Classification Report:\n",
            "               precision    recall  f1-score   support\n",
            "\n",
            "           0       0.85      0.85      0.85       105\n",
            "           1       0.78      0.78      0.78        74\n",
            "\n",
            "    accuracy                           0.82       179\n",
            "   macro avg       0.82      0.82      0.82       179\n",
            "weighted avg       0.82      0.82      0.82       179\n",
            "\n"
          ]
        }
      ]
    },
    {
      "cell_type": "code",
      "source": [
        "import tensorflow as tf\n",
        "from tensorflow.keras.models import Sequential\n",
        "from tensorflow.keras.layers import Dense\n",
        "\n",
        "# Build Model\n",
        "nn = Sequential([\n",
        "    Dense(32, activation='relu', input_shape=(X_train.shape[1],)),\n",
        "    Dense(16, activation='relu'),\n",
        "    Dense(1, activation='sigmoid')   # binary classification\n",
        "])\n",
        "\n",
        "nn.compile(optimizer='adam', loss='binary_crossentropy', metrics=['accuracy'])\n",
        "\n",
        "# Train\n",
        "nn.fit(X_train, y_train, epochs=20, batch_size=16, verbose=1)\n",
        "\n",
        "# Evaluate\n",
        "loss, acc = nn.evaluate(X_test, y_test)\n",
        "print(\"Neural Network Accuracy:\", acc)"
      ],
      "metadata": {
        "colab": {
          "base_uri": "https://localhost:8080/"
        },
        "id": "spNCk8SQq6Z7",
        "outputId": "f7ee77b2-46f7-4490-c49c-7f050b043548"
      },
      "execution_count": 80,
      "outputs": [
        {
          "output_type": "stream",
          "name": "stdout",
          "text": [
            "Epoch 1/20\n"
          ]
        },
        {
          "output_type": "stream",
          "name": "stderr",
          "text": [
            "/usr/local/lib/python3.12/dist-packages/keras/src/layers/core/dense.py:93: UserWarning: Do not pass an `input_shape`/`input_dim` argument to a layer. When using Sequential models, prefer using an `Input(shape)` object as the first layer in the model instead.\n",
            "  super().__init__(activity_regularizer=activity_regularizer, **kwargs)\n"
          ]
        },
        {
          "output_type": "stream",
          "name": "stdout",
          "text": [
            "\u001b[1m45/45\u001b[0m \u001b[32m━━━━━━━━━━━━━━━━━━━━\u001b[0m\u001b[37m\u001b[0m \u001b[1m1s\u001b[0m 3ms/step - accuracy: 0.5874 - loss: 0.6670\n",
            "Epoch 2/20\n",
            "\u001b[1m45/45\u001b[0m \u001b[32m━━━━━━━━━━━━━━━━━━━━\u001b[0m\u001b[37m\u001b[0m \u001b[1m0s\u001b[0m 2ms/step - accuracy: 0.7121 - loss: 0.5384\n",
            "Epoch 3/20\n",
            "\u001b[1m45/45\u001b[0m \u001b[32m━━━━━━━━━━━━━━━━━━━━\u001b[0m\u001b[37m\u001b[0m \u001b[1m0s\u001b[0m 3ms/step - accuracy: 0.8274 - loss: 0.4560\n",
            "Epoch 4/20\n",
            "\u001b[1m45/45\u001b[0m \u001b[32m━━━━━━━━━━━━━━━━━━━━\u001b[0m\u001b[37m\u001b[0m \u001b[1m0s\u001b[0m 2ms/step - accuracy: 0.8323 - loss: 0.4207\n",
            "Epoch 5/20\n",
            "\u001b[1m45/45\u001b[0m \u001b[32m━━━━━━━━━━━━━━━━━━━━\u001b[0m\u001b[37m\u001b[0m \u001b[1m0s\u001b[0m 2ms/step - accuracy: 0.8318 - loss: 0.3915\n",
            "Epoch 6/20\n",
            "\u001b[1m45/45\u001b[0m \u001b[32m━━━━━━━━━━━━━━━━━━━━\u001b[0m\u001b[37m\u001b[0m \u001b[1m0s\u001b[0m 4ms/step - accuracy: 0.8391 - loss: 0.4072\n",
            "Epoch 7/20\n",
            "\u001b[1m45/45\u001b[0m \u001b[32m━━━━━━━━━━━━━━━━━━━━\u001b[0m\u001b[37m\u001b[0m \u001b[1m0s\u001b[0m 4ms/step - accuracy: 0.8528 - loss: 0.3620\n",
            "Epoch 8/20\n",
            "\u001b[1m45/45\u001b[0m \u001b[32m━━━━━━━━━━━━━━━━━━━━\u001b[0m\u001b[37m\u001b[0m \u001b[1m0s\u001b[0m 4ms/step - accuracy: 0.8272 - loss: 0.3965\n",
            "Epoch 9/20\n",
            "\u001b[1m45/45\u001b[0m \u001b[32m━━━━━━━━━━━━━━━━━━━━\u001b[0m\u001b[37m\u001b[0m \u001b[1m0s\u001b[0m 4ms/step - accuracy: 0.8697 - loss: 0.3548\n",
            "Epoch 10/20\n",
            "\u001b[1m45/45\u001b[0m \u001b[32m━━━━━━━━━━━━━━━━━━━━\u001b[0m\u001b[37m\u001b[0m \u001b[1m0s\u001b[0m 4ms/step - accuracy: 0.8240 - loss: 0.4130\n",
            "Epoch 11/20\n",
            "\u001b[1m45/45\u001b[0m \u001b[32m━━━━━━━━━━━━━━━━━━━━\u001b[0m\u001b[37m\u001b[0m \u001b[1m0s\u001b[0m 4ms/step - accuracy: 0.8518 - loss: 0.3675\n",
            "Epoch 12/20\n",
            "\u001b[1m45/45\u001b[0m \u001b[32m━━━━━━━━━━━━━━━━━━━━\u001b[0m\u001b[37m\u001b[0m \u001b[1m0s\u001b[0m 5ms/step - accuracy: 0.8376 - loss: 0.3920\n",
            "Epoch 13/20\n",
            "\u001b[1m45/45\u001b[0m \u001b[32m━━━━━━━━━━━━━━━━━━━━\u001b[0m\u001b[37m\u001b[0m \u001b[1m0s\u001b[0m 4ms/step - accuracy: 0.8636 - loss: 0.3393\n",
            "Epoch 14/20\n",
            "\u001b[1m45/45\u001b[0m \u001b[32m━━━━━━━━━━━━━━━━━━━━\u001b[0m\u001b[37m\u001b[0m \u001b[1m0s\u001b[0m 4ms/step - accuracy: 0.8525 - loss: 0.3632\n",
            "Epoch 15/20\n",
            "\u001b[1m45/45\u001b[0m \u001b[32m━━━━━━━━━━━━━━━━━━━━\u001b[0m\u001b[37m\u001b[0m \u001b[1m0s\u001b[0m 4ms/step - accuracy: 0.8675 - loss: 0.3394\n",
            "Epoch 16/20\n",
            "\u001b[1m45/45\u001b[0m \u001b[32m━━━━━━━━━━━━━━━━━━━━\u001b[0m\u001b[37m\u001b[0m \u001b[1m0s\u001b[0m 4ms/step - accuracy: 0.8593 - loss: 0.3431\n",
            "Epoch 17/20\n",
            "\u001b[1m45/45\u001b[0m \u001b[32m━━━━━━━━━━━━━━━━━━━━\u001b[0m\u001b[37m\u001b[0m \u001b[1m0s\u001b[0m 5ms/step - accuracy: 0.8704 - loss: 0.3343\n",
            "Epoch 18/20\n",
            "\u001b[1m45/45\u001b[0m \u001b[32m━━━━━━━━━━━━━━━━━━━━\u001b[0m\u001b[37m\u001b[0m \u001b[1m0s\u001b[0m 5ms/step - accuracy: 0.8455 - loss: 0.3894\n",
            "Epoch 19/20\n",
            "\u001b[1m45/45\u001b[0m \u001b[32m━━━━━━━━━━━━━━━━━━━━\u001b[0m\u001b[37m\u001b[0m \u001b[1m0s\u001b[0m 5ms/step - accuracy: 0.8571 - loss: 0.3569\n",
            "Epoch 20/20\n",
            "\u001b[1m45/45\u001b[0m \u001b[32m━━━━━━━━━━━━━━━━━━━━\u001b[0m\u001b[37m\u001b[0m \u001b[1m0s\u001b[0m 5ms/step - accuracy: 0.8529 - loss: 0.3597\n",
            "\u001b[1m6/6\u001b[0m \u001b[32m━━━━━━━━━━━━━━━━━━━━\u001b[0m\u001b[37m\u001b[0m \u001b[1m0s\u001b[0m 6ms/step - accuracy: 0.8325 - loss: 0.4259  \n",
            "Neural Network Accuracy: 0.8156424760818481\n"
          ]
        }
      ]
    },
    {
      "cell_type": "code",
      "source": [
        "import xgboost as xgb\n",
        "from sklearn.metrics import accuracy_score\n",
        "\n",
        "xgb_model = xgb.XGBClassifier(use_label_encoder=False, eval_metric='logloss')\n",
        "xgb_model.fit(X_train, y_train)\n",
        "xgb_preds = xgb_model.predict(X_test)\n",
        "\n",
        "print(\"XGBoost Accuracy:\", accuracy_score(y_test, xgb_preds))\n"
      ],
      "metadata": {
        "colab": {
          "base_uri": "https://localhost:8080/"
        },
        "id": "FWtj1NOnovHP",
        "outputId": "732a7ae1-059b-4079-c370-7b40fd1e44dc"
      },
      "execution_count": 78,
      "outputs": [
        {
          "output_type": "stream",
          "name": "stdout",
          "text": [
            "XGBoost Accuracy: 0.7988826815642458\n"
          ]
        },
        {
          "output_type": "stream",
          "name": "stderr",
          "text": [
            "/usr/local/lib/python3.12/dist-packages/xgboost/training.py:183: UserWarning: [05:06:28] WARNING: /workspace/src/learner.cc:738: \n",
            "Parameters: { \"use_label_encoder\" } are not used.\n",
            "\n",
            "  bst.update(dtrain, iteration=i, fobj=obj)\n"
          ]
        }
      ]
    },
    {
      "cell_type": "code",
      "source": [
        "models = {\n",
        "    \"Logistic Regression\": lr.score(X_test, y_test),\n",
        "    \"Random Forest\": rf.score(X_test, y_test),\n",
        "    \"XGBoost\": accuracy_score(y_test, xgb_preds),\n",
        "    \"Neural Network\": acc\n",
        "}\n",
        "\n",
        "for model, score in models.items():\n",
        "    print(model, \":\", round(score*100, 2), \"%\")\n"
      ],
      "metadata": {
        "colab": {
          "base_uri": "https://localhost:8080/"
        },
        "id": "qaARyEM3rSgv",
        "outputId": "63e41ea5-a5cd-408f-ba93-24219087f3f5"
      },
      "execution_count": 81,
      "outputs": [
        {
          "output_type": "stream",
          "name": "stdout",
          "text": [
            "Logistic Regression : 82.12 %\n",
            "Random Forest : 81.01 %\n",
            "XGBoost : 79.89 %\n",
            "Neural Network : 81.56 %\n"
          ]
        }
      ]
    },
    {
      "cell_type": "code",
      "source": [
        "from sklearn.ensemble import RandomForestClassifier\n",
        "\n",
        "# Initialize model\n",
        "rf = RandomForestClassifier(n_estimators=100, random_state=42)\n",
        "\n",
        "# Train\n",
        "rf.fit(X_train, y_train)\n",
        "\n",
        "# Predict\n",
        "rf_preds = rf.predict(X_test)\n",
        "\n",
        "# Evaluate\n",
        "rf_acc = accuracy_score(y_test, rf_preds)\n",
        "print(\"Random Forest Accuracy:\", round(rf_acc * 100, 2), \"%\")\n"
      ],
      "metadata": {
        "colab": {
          "base_uri": "https://localhost:8080/"
        },
        "id": "4DXX7fghrr5y",
        "outputId": "a49301f3-6dc1-4ec8-97cf-47cb3adfd038"
      },
      "execution_count": 82,
      "outputs": [
        {
          "output_type": "stream",
          "name": "stdout",
          "text": [
            "Random Forest Accuracy: 81.01 %\n"
          ]
        }
      ]
    },
    {
      "cell_type": "code",
      "source": [
        "from sklearn.tree import DecisionTreeClassifier\n",
        "\n",
        "dt = DecisionTreeClassifier(max_depth=5, random_state=42)\n",
        "dt.fit(X_train, y_train)\n",
        "dt_preds = dt.predict(X_test)\n",
        "\n",
        "dt_acc = accuracy_score(y_test, dt_preds)\n",
        "print(\"Decision Tree Accuracy:\", round(dt_acc * 100, 2), \"%\")"
      ],
      "metadata": {
        "colab": {
          "base_uri": "https://localhost:8080/"
        },
        "id": "xm-8K8eGuHD0",
        "outputId": "675fe9d9-4264-45c3-b515-02554ae6baf5"
      },
      "execution_count": 84,
      "outputs": [
        {
          "output_type": "stream",
          "name": "stdout",
          "text": [
            "Decision Tree Accuracy: 85.47 %\n"
          ]
        }
      ]
    },
    {
      "cell_type": "code",
      "source": [
        "from sklearn.neighbors import KNeighborsClassifier\n",
        "\n",
        "knn = KNeighborsClassifier(n_neighbors=5)\n",
        "knn.fit(X_train, y_train)\n",
        "knn_preds = knn.predict(X_test)\n",
        "\n",
        "knn_acc = accuracy_score(y_test, knn_preds)\n",
        "print(\"KNN Accuracy:\", round(knn_acc * 100, 2), \"%\")"
      ],
      "metadata": {
        "colab": {
          "base_uri": "https://localhost:8080/"
        },
        "id": "tApyPKT1uMK2",
        "outputId": "ec70fafb-15c0-4a09-a1b5-81c499bc5dae"
      },
      "execution_count": 85,
      "outputs": [
        {
          "output_type": "stream",
          "name": "stdout",
          "text": [
            "KNN Accuracy: 79.89 %\n"
          ]
        }
      ]
    },
    {
      "cell_type": "code",
      "source": [
        "from sklearn.naive_bayes import GaussianNB\n",
        "\n",
        "nb = GaussianNB()\n",
        "nb.fit(X_train, y_train)\n",
        "nb_preds = nb.predict(X_test)\n",
        "\n",
        "nb_acc = accuracy_score(y_test, nb_preds)\n",
        "print(\"Naive Bayes Accuracy:\", round(nb_acc * 100, 2), \"%\")"
      ],
      "metadata": {
        "colab": {
          "base_uri": "https://localhost:8080/"
        },
        "id": "PnM1FwvEuPLM",
        "outputId": "3a07e6ec-ee43-474e-fad7-2ebd63a3e190"
      },
      "execution_count": 86,
      "outputs": [
        {
          "output_type": "stream",
          "name": "stdout",
          "text": [
            "Naive Bayes Accuracy: 77.65 %\n"
          ]
        }
      ]
    },
    {
      "cell_type": "code",
      "source": [
        "import lightgbm as lgb\n",
        "\n",
        "lgb_model = lgb.LGBMClassifier()\n",
        "lgb_model.fit(X_train, y_train)\n",
        "lgb_preds = lgb_model.predict(X_test)\n",
        "\n",
        "lgb_acc = accuracy_score(y_test, lgb_preds)\n",
        "print(\"LightGBM Accuracy:\", round(lgb_acc * 100, 2), \"%\")\n"
      ],
      "metadata": {
        "colab": {
          "base_uri": "https://localhost:8080/"
        },
        "id": "HNXku4XFuSfu",
        "outputId": "fb3bdfc7-f823-4b17-d140-82e5f8b490af"
      },
      "execution_count": 87,
      "outputs": [
        {
          "output_type": "stream",
          "name": "stdout",
          "text": [
            "[LightGBM] [Info] Number of positive: 268, number of negative: 444\n",
            "[LightGBM] [Info] Auto-choosing row-wise multi-threading, the overhead of testing was 0.000493 seconds.\n",
            "You can set `force_row_wise=true` to remove the overhead.\n",
            "And if memory is not enough, you can set `force_col_wise=true`.\n",
            "[LightGBM] [Info] Total Bins 351\n",
            "[LightGBM] [Info] Number of data points in the train set: 712, number of used features: 28\n",
            "[LightGBM] [Info] [binary:BoostFromScore]: pavg=0.376404 -> initscore=-0.504838\n",
            "[LightGBM] [Info] Start training from score -0.504838\n",
            "[LightGBM] [Warning] No further splits with positive gain, best gain: -inf\n",
            "[LightGBM] [Warning] No further splits with positive gain, best gain: -inf\n",
            "[LightGBM] [Warning] No further splits with positive gain, best gain: -inf\n",
            "[LightGBM] [Warning] No further splits with positive gain, best gain: -inf\n",
            "[LightGBM] [Warning] No further splits with positive gain, best gain: -inf\n",
            "[LightGBM] [Warning] No further splits with positive gain, best gain: -inf\n",
            "[LightGBM] [Warning] No further splits with positive gain, best gain: -inf\n",
            "[LightGBM] [Warning] No further splits with positive gain, best gain: -inf\n",
            "[LightGBM] [Warning] No further splits with positive gain, best gain: -inf\n",
            "[LightGBM] [Warning] No further splits with positive gain, best gain: -inf\n",
            "[LightGBM] [Warning] No further splits with positive gain, best gain: -inf\n",
            "[LightGBM] [Warning] No further splits with positive gain, best gain: -inf\n",
            "[LightGBM] [Warning] No further splits with positive gain, best gain: -inf\n",
            "[LightGBM] [Warning] No further splits with positive gain, best gain: -inf\n",
            "[LightGBM] [Warning] No further splits with positive gain, best gain: -inf\n",
            "[LightGBM] [Warning] No further splits with positive gain, best gain: -inf\n",
            "[LightGBM] [Warning] No further splits with positive gain, best gain: -inf\n",
            "[LightGBM] [Warning] No further splits with positive gain, best gain: -inf\n",
            "[LightGBM] [Warning] No further splits with positive gain, best gain: -inf\n",
            "[LightGBM] [Warning] No further splits with positive gain, best gain: -inf\n",
            "[LightGBM] [Warning] No further splits with positive gain, best gain: -inf\n",
            "[LightGBM] [Warning] No further splits with positive gain, best gain: -inf\n",
            "[LightGBM] [Warning] No further splits with positive gain, best gain: -inf\n",
            "[LightGBM] [Warning] No further splits with positive gain, best gain: -inf\n",
            "[LightGBM] [Warning] No further splits with positive gain, best gain: -inf\n",
            "[LightGBM] [Warning] No further splits with positive gain, best gain: -inf\n",
            "[LightGBM] [Warning] No further splits with positive gain, best gain: -inf\n",
            "[LightGBM] [Warning] No further splits with positive gain, best gain: -inf\n",
            "[LightGBM] [Warning] No further splits with positive gain, best gain: -inf\n",
            "[LightGBM] [Warning] No further splits with positive gain, best gain: -inf\n",
            "[LightGBM] [Warning] No further splits with positive gain, best gain: -inf\n",
            "[LightGBM] [Warning] No further splits with positive gain, best gain: -inf\n",
            "[LightGBM] [Warning] No further splits with positive gain, best gain: -inf\n",
            "[LightGBM] [Warning] No further splits with positive gain, best gain: -inf\n",
            "[LightGBM] [Warning] No further splits with positive gain, best gain: -inf\n",
            "[LightGBM] [Warning] No further splits with positive gain, best gain: -inf\n",
            "[LightGBM] [Warning] No further splits with positive gain, best gain: -inf\n",
            "[LightGBM] [Warning] No further splits with positive gain, best gain: -inf\n",
            "[LightGBM] [Warning] No further splits with positive gain, best gain: -inf\n",
            "[LightGBM] [Warning] No further splits with positive gain, best gain: -inf\n",
            "[LightGBM] [Warning] No further splits with positive gain, best gain: -inf\n",
            "[LightGBM] [Warning] No further splits with positive gain, best gain: -inf\n",
            "[LightGBM] [Warning] No further splits with positive gain, best gain: -inf\n",
            "[LightGBM] [Warning] No further splits with positive gain, best gain: -inf\n",
            "[LightGBM] [Warning] No further splits with positive gain, best gain: -inf\n",
            "[LightGBM] [Warning] No further splits with positive gain, best gain: -inf\n",
            "[LightGBM] [Warning] No further splits with positive gain, best gain: -inf\n",
            "[LightGBM] [Warning] No further splits with positive gain, best gain: -inf\n",
            "[LightGBM] [Warning] No further splits with positive gain, best gain: -inf\n",
            "[LightGBM] [Warning] No further splits with positive gain, best gain: -inf\n",
            "[LightGBM] [Warning] No further splits with positive gain, best gain: -inf\n",
            "[LightGBM] [Warning] No further splits with positive gain, best gain: -inf\n",
            "[LightGBM] [Warning] No further splits with positive gain, best gain: -inf\n",
            "[LightGBM] [Warning] No further splits with positive gain, best gain: -inf\n",
            "[LightGBM] [Warning] No further splits with positive gain, best gain: -inf\n",
            "[LightGBM] [Warning] No further splits with positive gain, best gain: -inf\n",
            "[LightGBM] [Warning] No further splits with positive gain, best gain: -inf\n",
            "[LightGBM] [Warning] No further splits with positive gain, best gain: -inf\n",
            "[LightGBM] [Warning] No further splits with positive gain, best gain: -inf\n",
            "[LightGBM] [Warning] No further splits with positive gain, best gain: -inf\n",
            "[LightGBM] [Warning] No further splits with positive gain, best gain: -inf\n",
            "[LightGBM] [Warning] No further splits with positive gain, best gain: -inf\n",
            "[LightGBM] [Warning] No further splits with positive gain, best gain: -inf\n",
            "[LightGBM] [Warning] No further splits with positive gain, best gain: -inf\n",
            "[LightGBM] [Warning] No further splits with positive gain, best gain: -inf\n",
            "[LightGBM] [Warning] No further splits with positive gain, best gain: -inf\n",
            "[LightGBM] [Warning] No further splits with positive gain, best gain: -inf\n",
            "[LightGBM] [Warning] No further splits with positive gain, best gain: -inf\n",
            "[LightGBM] [Warning] No further splits with positive gain, best gain: -inf\n",
            "[LightGBM] [Warning] No further splits with positive gain, best gain: -inf\n",
            "[LightGBM] [Warning] No further splits with positive gain, best gain: -inf\n",
            "[LightGBM] [Warning] No further splits with positive gain, best gain: -inf\n",
            "[LightGBM] [Warning] No further splits with positive gain, best gain: -inf\n",
            "[LightGBM] [Warning] No further splits with positive gain, best gain: -inf\n",
            "[LightGBM] [Warning] No further splits with positive gain, best gain: -inf\n",
            "[LightGBM] [Warning] No further splits with positive gain, best gain: -inf\n",
            "[LightGBM] [Warning] No further splits with positive gain, best gain: -inf\n",
            "[LightGBM] [Warning] No further splits with positive gain, best gain: -inf\n",
            "[LightGBM] [Warning] No further splits with positive gain, best gain: -inf\n",
            "[LightGBM] [Warning] No further splits with positive gain, best gain: -inf\n",
            "[LightGBM] [Warning] No further splits with positive gain, best gain: -inf\n",
            "[LightGBM] [Warning] No further splits with positive gain, best gain: -inf\n",
            "[LightGBM] [Warning] No further splits with positive gain, best gain: -inf\n",
            "[LightGBM] [Warning] No further splits with positive gain, best gain: -inf\n",
            "[LightGBM] [Warning] No further splits with positive gain, best gain: -inf\n",
            "[LightGBM] [Warning] No further splits with positive gain, best gain: -inf\n",
            "[LightGBM] [Warning] No further splits with positive gain, best gain: -inf\n",
            "[LightGBM] [Warning] No further splits with positive gain, best gain: -inf\n",
            "[LightGBM] [Warning] No further splits with positive gain, best gain: -inf\n",
            "[LightGBM] [Warning] No further splits with positive gain, best gain: -inf\n",
            "[LightGBM] [Warning] No further splits with positive gain, best gain: -inf\n",
            "[LightGBM] [Warning] No further splits with positive gain, best gain: -inf\n",
            "[LightGBM] [Warning] No further splits with positive gain, best gain: -inf\n",
            "[LightGBM] [Warning] No further splits with positive gain, best gain: -inf\n",
            "[LightGBM] [Warning] No further splits with positive gain, best gain: -inf\n",
            "LightGBM Accuracy: 81.01 %\n"
          ]
        },
        {
          "output_type": "stream",
          "name": "stderr",
          "text": [
            "/usr/local/lib/python3.12/dist-packages/sklearn/utils/validation.py:2739: UserWarning: X does not have valid feature names, but LGBMClassifier was fitted with feature names\n",
            "  warnings.warn(\n"
          ]
        }
      ]
    },
    {
      "cell_type": "code",
      "metadata": {
        "colab": {
          "base_uri": "https://localhost:8080/"
        },
        "id": "2e583ca1",
        "outputId": "d790acb4-89bc-42aa-ba9b-8b3bfa72fc4a"
      },
      "source": [
        "%pip install catboost"
      ],
      "execution_count": 89,
      "outputs": [
        {
          "output_type": "stream",
          "name": "stdout",
          "text": [
            "Collecting catboost\n",
            "  Downloading catboost-1.2.8-cp312-cp312-manylinux2014_x86_64.whl.metadata (1.2 kB)\n",
            "Requirement already satisfied: graphviz in /usr/local/lib/python3.12/dist-packages (from catboost) (0.21)\n",
            "Requirement already satisfied: matplotlib in /usr/local/lib/python3.12/dist-packages (from catboost) (3.10.0)\n",
            "Requirement already satisfied: numpy<3.0,>=1.16.0 in /usr/local/lib/python3.12/dist-packages (from catboost) (2.0.2)\n",
            "Requirement already satisfied: pandas>=0.24 in /usr/local/lib/python3.12/dist-packages (from catboost) (2.2.2)\n",
            "Requirement already satisfied: scipy in /usr/local/lib/python3.12/dist-packages (from catboost) (1.16.1)\n",
            "Requirement already satisfied: plotly in /usr/local/lib/python3.12/dist-packages (from catboost) (5.24.1)\n",
            "Requirement already satisfied: six in /usr/local/lib/python3.12/dist-packages (from catboost) (1.17.0)\n",
            "Requirement already satisfied: python-dateutil>=2.8.2 in /usr/local/lib/python3.12/dist-packages (from pandas>=0.24->catboost) (2.9.0.post0)\n",
            "Requirement already satisfied: pytz>=2020.1 in /usr/local/lib/python3.12/dist-packages (from pandas>=0.24->catboost) (2025.2)\n",
            "Requirement already satisfied: tzdata>=2022.7 in /usr/local/lib/python3.12/dist-packages (from pandas>=0.24->catboost) (2025.2)\n",
            "Requirement already satisfied: contourpy>=1.0.1 in /usr/local/lib/python3.12/dist-packages (from matplotlib->catboost) (1.3.3)\n",
            "Requirement already satisfied: cycler>=0.10 in /usr/local/lib/python3.12/dist-packages (from matplotlib->catboost) (0.12.1)\n",
            "Requirement already satisfied: fonttools>=4.22.0 in /usr/local/lib/python3.12/dist-packages (from matplotlib->catboost) (4.59.2)\n",
            "Requirement already satisfied: kiwisolver>=1.3.1 in /usr/local/lib/python3.12/dist-packages (from matplotlib->catboost) (1.4.9)\n",
            "Requirement already satisfied: packaging>=20.0 in /usr/local/lib/python3.12/dist-packages (from matplotlib->catboost) (25.0)\n",
            "Requirement already satisfied: pillow>=8 in /usr/local/lib/python3.12/dist-packages (from matplotlib->catboost) (11.3.0)\n",
            "Requirement already satisfied: pyparsing>=2.3.1 in /usr/local/lib/python3.12/dist-packages (from matplotlib->catboost) (3.2.3)\n",
            "Requirement already satisfied: tenacity>=6.2.0 in /usr/local/lib/python3.12/dist-packages (from plotly->catboost) (8.5.0)\n",
            "Downloading catboost-1.2.8-cp312-cp312-manylinux2014_x86_64.whl (99.2 MB)\n",
            "\u001b[2K   \u001b[90m━━━━━━━━━━━━━━━━━━━━━━━━━━━━━━━━━━━━━━━━\u001b[0m \u001b[32m99.2/99.2 MB\u001b[0m \u001b[31m7.1 MB/s\u001b[0m eta \u001b[36m0:00:00\u001b[0m\n",
            "\u001b[?25hInstalling collected packages: catboost\n",
            "Successfully installed catboost-1.2.8\n"
          ]
        }
      ]
    },
    {
      "cell_type": "code",
      "source": [
        "from catboost import CatBoostClassifier\n",
        "\n",
        "cat_model = CatBoostClassifier(verbose=0)\n",
        "cat_model.fit(X_train, y_train)\n",
        "cat_preds = cat_model.predict(X_test)\n",
        "\n",
        "cat_acc = accuracy_score(y_test, cat_preds)\n",
        "print(\"CatBoost Accuracy:\", round(cat_acc * 100, 2), \"%\")"
      ],
      "metadata": {
        "colab": {
          "base_uri": "https://localhost:8080/"
        },
        "id": "1A6GpN3EurzU",
        "outputId": "357ec9c0-0bef-4e72-8ba0-6f67e880a7b9"
      },
      "execution_count": 90,
      "outputs": [
        {
          "output_type": "stream",
          "name": "stdout",
          "text": [
            "CatBoost Accuracy: 83.24 %\n"
          ]
        }
      ]
    },
    {
      "cell_type": "code",
      "source": [
        "import pandas as pd\n",
        "from sklearn.metrics import accuracy_score, precision_score, recall_score, f1_score\n",
        "\n",
        "# Define models\n",
        "from sklearn.linear_model import LogisticRegression\n",
        "from sklearn.tree import DecisionTreeClassifier\n",
        "from sklearn.ensemble import RandomForestClassifier\n",
        "from sklearn.neighbors import KNeighborsClassifier\n",
        "from sklearn.naive_bayes import GaussianNB\n",
        "from sklearn.svm import SVC\n",
        "import xgboost as xgb\n",
        "import lightgbm as lgb\n",
        "from catboost import CatBoostClassifier\n",
        "\n",
        "models = {\n",
        "    \"Logistic Regression\": LogisticRegression(max_iter=1000),\n",
        "    \"Decision Tree\": DecisionTreeClassifier(max_depth=5, random_state=42),\n",
        "    \"Random Forest\": RandomForestClassifier(n_estimators=100, random_state=42),\n",
        "    \"KNN\": KNeighborsClassifier(n_neighbors=5),\n",
        "    \"Naive Bayes\": GaussianNB(),\n",
        "    \"SVM\": SVC(kernel=\"linear\", probability=True, random_state=42),\n",
        "    \"XGBoost\": xgb.XGBClassifier(use_label_encoder=False, eval_metric=\"logloss\"),\n",
        "    \"LightGBM\": lgb.LGBMClassifier(),\n",
        "    \"CatBoost\": CatBoostClassifier(verbose=0)\n",
        "}\n",
        "\n",
        "# Store results\n",
        "results = []\n",
        "\n",
        "for name, model in models.items():\n",
        "    model.fit(X_train, y_train)\n",
        "    preds = model.predict(X_test)\n",
        "\n",
        "    acc = accuracy_score(y_test, preds)\n",
        "    prec = precision_score(y_test, preds)\n",
        "    rec = recall_score(y_test, preds)\n",
        "    f1 = f1_score(y_test, preds)\n",
        "\n",
        "    results.append([name, acc, prec, rec, f1])\n",
        "\n",
        "# Convert to DataFrame\n",
        "results_df = pd.DataFrame(results, columns=[\"Model\", \"Accuracy\", \"Precision\", \"Recall\", \"F1-Score\"])\n",
        "\n",
        "print(results_df)\n",
        "\n",
        "# Optional: Sort by Accuracy\n",
        "results_df = results_df.sort_values(by=\"Accuracy\", ascending=False)\n",
        "print(\"\\nSorted Results:\\n\", results_df)"
      ],
      "metadata": {
        "colab": {
          "base_uri": "https://localhost:8080/"
        },
        "id": "6yn_Ipy1u9xo",
        "outputId": "bfb45d5e-030a-4a11-ca29-8350d3a96bb3"
      },
      "execution_count": 91,
      "outputs": [
        {
          "output_type": "stream",
          "name": "stderr",
          "text": [
            "/usr/local/lib/python3.12/dist-packages/xgboost/training.py:183: UserWarning: [05:25:23] WARNING: /workspace/src/learner.cc:738: \n",
            "Parameters: { \"use_label_encoder\" } are not used.\n",
            "\n",
            "  bst.update(dtrain, iteration=i, fobj=obj)\n"
          ]
        },
        {
          "output_type": "stream",
          "name": "stdout",
          "text": [
            "[LightGBM] [Info] Number of positive: 268, number of negative: 444\n",
            "[LightGBM] [Info] Auto-choosing row-wise multi-threading, the overhead of testing was 0.000255 seconds.\n",
            "You can set `force_row_wise=true` to remove the overhead.\n",
            "And if memory is not enough, you can set `force_col_wise=true`.\n",
            "[LightGBM] [Info] Total Bins 351\n",
            "[LightGBM] [Info] Number of data points in the train set: 712, number of used features: 28\n",
            "[LightGBM] [Info] [binary:BoostFromScore]: pavg=0.376404 -> initscore=-0.504838\n",
            "[LightGBM] [Info] Start training from score -0.504838\n",
            "[LightGBM] [Warning] No further splits with positive gain, best gain: -inf\n",
            "[LightGBM] [Warning] No further splits with positive gain, best gain: -inf\n",
            "[LightGBM] [Warning] No further splits with positive gain, best gain: -inf\n",
            "[LightGBM] [Warning] No further splits with positive gain, best gain: -inf\n",
            "[LightGBM] [Warning] No further splits with positive gain, best gain: -inf\n",
            "[LightGBM] [Warning] No further splits with positive gain, best gain: -inf\n",
            "[LightGBM] [Warning] No further splits with positive gain, best gain: -inf\n",
            "[LightGBM] [Warning] No further splits with positive gain, best gain: -inf\n",
            "[LightGBM] [Warning] No further splits with positive gain, best gain: -inf\n",
            "[LightGBM] [Warning] No further splits with positive gain, best gain: -inf\n",
            "[LightGBM] [Warning] No further splits with positive gain, best gain: -inf\n",
            "[LightGBM] [Warning] No further splits with positive gain, best gain: -inf\n",
            "[LightGBM] [Warning] No further splits with positive gain, best gain: -inf\n",
            "[LightGBM] [Warning] No further splits with positive gain, best gain: -inf\n",
            "[LightGBM] [Warning] No further splits with positive gain, best gain: -inf\n",
            "[LightGBM] [Warning] No further splits with positive gain, best gain: -inf\n",
            "[LightGBM] [Warning] No further splits with positive gain, best gain: -inf\n",
            "[LightGBM] [Warning] No further splits with positive gain, best gain: -inf\n",
            "[LightGBM] [Warning] No further splits with positive gain, best gain: -inf\n",
            "[LightGBM] [Warning] No further splits with positive gain, best gain: -inf\n",
            "[LightGBM] [Warning] No further splits with positive gain, best gain: -inf\n",
            "[LightGBM] [Warning] No further splits with positive gain, best gain: -inf\n",
            "[LightGBM] [Warning] No further splits with positive gain, best gain: -inf\n",
            "[LightGBM] [Warning] No further splits with positive gain, best gain: -inf\n",
            "[LightGBM] [Warning] No further splits with positive gain, best gain: -inf\n",
            "[LightGBM] [Warning] No further splits with positive gain, best gain: -inf\n",
            "[LightGBM] [Warning] No further splits with positive gain, best gain: -inf\n",
            "[LightGBM] [Warning] No further splits with positive gain, best gain: -inf\n",
            "[LightGBM] [Warning] No further splits with positive gain, best gain: -inf\n",
            "[LightGBM] [Warning] No further splits with positive gain, best gain: -inf\n",
            "[LightGBM] [Warning] No further splits with positive gain, best gain: -inf\n",
            "[LightGBM] [Warning] No further splits with positive gain, best gain: -inf\n",
            "[LightGBM] [Warning] No further splits with positive gain, best gain: -inf\n",
            "[LightGBM] [Warning] No further splits with positive gain, best gain: -inf\n",
            "[LightGBM] [Warning] No further splits with positive gain, best gain: -inf\n",
            "[LightGBM] [Warning] No further splits with positive gain, best gain: -inf\n",
            "[LightGBM] [Warning] No further splits with positive gain, best gain: -inf\n",
            "[LightGBM] [Warning] No further splits with positive gain, best gain: -inf\n",
            "[LightGBM] [Warning] No further splits with positive gain, best gain: -inf\n",
            "[LightGBM] [Warning] No further splits with positive gain, best gain: -inf\n",
            "[LightGBM] [Warning] No further splits with positive gain, best gain: -inf\n",
            "[LightGBM] [Warning] No further splits with positive gain, best gain: -inf\n",
            "[LightGBM] [Warning] No further splits with positive gain, best gain: -inf\n",
            "[LightGBM] [Warning] No further splits with positive gain, best gain: -inf\n",
            "[LightGBM] [Warning] No further splits with positive gain, best gain: -inf\n",
            "[LightGBM] [Warning] No further splits with positive gain, best gain: -inf\n",
            "[LightGBM] [Warning] No further splits with positive gain, best gain: -inf\n",
            "[LightGBM] [Warning] No further splits with positive gain, best gain: -inf\n",
            "[LightGBM] [Warning] No further splits with positive gain, best gain: -inf\n",
            "[LightGBM] [Warning] No further splits with positive gain, best gain: -inf\n",
            "[LightGBM] [Warning] No further splits with positive gain, best gain: -inf\n",
            "[LightGBM] [Warning] No further splits with positive gain, best gain: -inf\n",
            "[LightGBM] [Warning] No further splits with positive gain, best gain: -inf\n",
            "[LightGBM] [Warning] No further splits with positive gain, best gain: -inf\n",
            "[LightGBM] [Warning] No further splits with positive gain, best gain: -inf\n",
            "[LightGBM] [Warning] No further splits with positive gain, best gain: -inf\n",
            "[LightGBM] [Warning] No further splits with positive gain, best gain: -inf\n",
            "[LightGBM] [Warning] No further splits with positive gain, best gain: -inf\n",
            "[LightGBM] [Warning] No further splits with positive gain, best gain: -inf\n",
            "[LightGBM] [Warning] No further splits with positive gain, best gain: -inf\n",
            "[LightGBM] [Warning] No further splits with positive gain, best gain: -inf\n",
            "[LightGBM] [Warning] No further splits with positive gain, best gain: -inf\n",
            "[LightGBM] [Warning] No further splits with positive gain, best gain: -inf\n",
            "[LightGBM] [Warning] No further splits with positive gain, best gain: -inf\n",
            "[LightGBM] [Warning] No further splits with positive gain, best gain: -inf\n",
            "[LightGBM] [Warning] No further splits with positive gain, best gain: -inf\n",
            "[LightGBM] [Warning] No further splits with positive gain, best gain: -inf\n",
            "[LightGBM] [Warning] No further splits with positive gain, best gain: -inf\n",
            "[LightGBM] [Warning] No further splits with positive gain, best gain: -inf\n",
            "[LightGBM] [Warning] No further splits with positive gain, best gain: -inf\n",
            "[LightGBM] [Warning] No further splits with positive gain, best gain: -inf\n",
            "[LightGBM] [Warning] No further splits with positive gain, best gain: -inf\n",
            "[LightGBM] [Warning] No further splits with positive gain, best gain: -inf\n",
            "[LightGBM] [Warning] No further splits with positive gain, best gain: -inf\n",
            "[LightGBM] [Warning] No further splits with positive gain, best gain: -inf\n",
            "[LightGBM] [Warning] No further splits with positive gain, best gain: -inf\n",
            "[LightGBM] [Warning] No further splits with positive gain, best gain: -inf\n",
            "[LightGBM] [Warning] No further splits with positive gain, best gain: -inf\n",
            "[LightGBM] [Warning] No further splits with positive gain, best gain: -inf\n",
            "[LightGBM] [Warning] No further splits with positive gain, best gain: -inf\n",
            "[LightGBM] [Warning] No further splits with positive gain, best gain: -inf\n",
            "[LightGBM] [Warning] No further splits with positive gain, best gain: -inf\n",
            "[LightGBM] [Warning] No further splits with positive gain, best gain: -inf\n",
            "[LightGBM] [Warning] No further splits with positive gain, best gain: -inf\n",
            "[LightGBM] [Warning] No further splits with positive gain, best gain: -inf\n",
            "[LightGBM] [Warning] No further splits with positive gain, best gain: -inf\n",
            "[LightGBM] [Warning] No further splits with positive gain, best gain: -inf\n",
            "[LightGBM] [Warning] No further splits with positive gain, best gain: -inf\n",
            "[LightGBM] [Warning] No further splits with positive gain, best gain: -inf\n",
            "[LightGBM] [Warning] No further splits with positive gain, best gain: -inf\n",
            "[LightGBM] [Warning] No further splits with positive gain, best gain: -inf\n",
            "[LightGBM] [Warning] No further splits with positive gain, best gain: -inf\n",
            "[LightGBM] [Warning] No further splits with positive gain, best gain: -inf\n",
            "[LightGBM] [Warning] No further splits with positive gain, best gain: -inf\n",
            "[LightGBM] [Warning] No further splits with positive gain, best gain: -inf\n"
          ]
        },
        {
          "output_type": "stream",
          "name": "stderr",
          "text": [
            "/usr/local/lib/python3.12/dist-packages/sklearn/utils/validation.py:2739: UserWarning: X does not have valid feature names, but LGBMClassifier was fitted with feature names\n",
            "  warnings.warn(\n"
          ]
        },
        {
          "output_type": "stream",
          "name": "stdout",
          "text": [
            "                 Model  Accuracy  Precision    Recall  F1-Score\n",
            "0  Logistic Regression  0.821229   0.783784  0.783784  0.783784\n",
            "1        Decision Tree  0.854749   0.815789  0.837838  0.826667\n",
            "2        Random Forest  0.810056   0.763158  0.783784  0.773333\n",
            "3                  KNN  0.798883   0.771429  0.729730  0.750000\n",
            "4          Naive Bayes  0.776536   0.680851  0.864865  0.761905\n",
            "5                  SVM  0.826816   0.811594  0.756757  0.783217\n",
            "6              XGBoost  0.798883   0.771429  0.729730  0.750000\n",
            "7             LightGBM  0.810056   0.777778  0.756757  0.767123\n",
            "8             CatBoost  0.832402   0.814286  0.770270  0.791667\n",
            "\n",
            "Sorted Results:\n",
            "                  Model  Accuracy  Precision    Recall  F1-Score\n",
            "1        Decision Tree  0.854749   0.815789  0.837838  0.826667\n",
            "8             CatBoost  0.832402   0.814286  0.770270  0.791667\n",
            "5                  SVM  0.826816   0.811594  0.756757  0.783217\n",
            "0  Logistic Regression  0.821229   0.783784  0.783784  0.783784\n",
            "2        Random Forest  0.810056   0.763158  0.783784  0.773333\n",
            "7             LightGBM  0.810056   0.777778  0.756757  0.767123\n",
            "3                  KNN  0.798883   0.771429  0.729730  0.750000\n",
            "6              XGBoost  0.798883   0.771429  0.729730  0.750000\n",
            "4          Naive Bayes  0.776536   0.680851  0.864865  0.761905\n"
          ]
        }
      ]
    }
  ]
}